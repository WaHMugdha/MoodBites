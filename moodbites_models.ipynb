{
  "nbformat": 4,
  "nbformat_minor": 0,
  "metadata": {
    "colab": {
      "provenance": [],
      "gpuType": "T4",
      "include_colab_link": true
    },
    "kernelspec": {
      "name": "python3",
      "display_name": "Python 3"
    },
    "language_info": {
      "name": "python"
    },
    "accelerator": "GPU"
  },
  "cells": [
    {
      "cell_type": "markdown",
      "metadata": {
        "id": "view-in-github",
        "colab_type": "text"
      },
      "source": [
        "<a href=\"https://colab.research.google.com/github/WaHMugdha/MoodBites/blob/main/moodbites_models.ipynb\" target=\"_parent\"><img src=\"https://colab.research.google.com/assets/colab-badge.svg\" alt=\"Open In Colab\"/></a>"
      ]
    },
    {
      "cell_type": "code",
      "source": [
        "from google.colab import drive\n",
        "drive.mount('/content/drive')\n",
        "import pickle\n",
        "# Load the pickle file for word2vec model\n",
        "with open('/content/drive/MyDrive/Kaggle/word2vec_model.pkl', 'rb') as f:\n",
        "    word2vec_model = pickle.load(f)\n",
        "\n",
        "# Load the pickle file for dataset\n",
        "with open('/content/drive/MyDrive/Kaggle/data_after_word2vec.pkl', 'rb') as f:\n",
        "    data = pickle.load(f)\n",
        "\n",
        "data = data.drop(columns=['Unnamed: 0.3', 'Unnamed: 0.2', 'Unnamed: 0.1', 'Unnamed: 0'])\n",
        "data['cleaned_reviews'] = data['cleaned_reviews'].apply(lambda tokens: ' '.join(tokens))\n",
        "data.head()"
      ],
      "metadata": {
        "id": "L3pLjxd8lWOv",
        "colab": {
          "base_uri": "https://localhost:8080/",
          "height": 504
        },
        "outputId": "41673ae5-220a-43f7-98a6-9ae0f52fe449"
      },
      "execution_count": null,
      "outputs": [
        {
          "output_type": "stream",
          "name": "stdout",
          "text": [
            "Mounted at /content/drive\n"
          ]
        },
        {
          "output_type": "execute_result",
          "data": {
            "text/plain": [
              "                                                 url  name  online_order  \\\n",
              "0  https://www.zomato.com/bangalore/jalsa-banasha...  2933             1   \n",
              "1  https://www.zomato.com/bangalore/jalsa-banasha...  2933             1   \n",
              "2  https://www.zomato.com/bangalore/jalsa-banasha...  2933             1   \n",
              "3  https://www.zomato.com/bangalore/jalsa-banasha...  2933             1   \n",
              "4  https://www.zomato.com/bangalore/jalsa-banasha...  2933             1   \n",
              "\n",
              "   book_table      rate     votes  location  rest_type  cuisines      cost  \\\n",
              "0           1  0.720882  0.611201         1         24      1972  0.557298   \n",
              "1           1  0.720882  0.611201         1         24      1972  0.557298   \n",
              "2           1  0.720882  0.611201         1         24      1972  0.557298   \n",
              "3           1  0.720882  0.611201         1         24      1972  0.557298   \n",
              "4           1  0.720882  0.611201         1         24      1972  0.557298   \n",
              "\n",
              "                                        reviews_list  type  city  \\\n",
              "0  ('Rated 4.0', 'RATED\\n  A beautiful place to d...     0     1   \n",
              "1  ('Rated 4.0', 'RATED\\n  I was here for dinner ...     0     1   \n",
              "2  ('Rated 2.0', 'RATED\\n  Its a restaurant near ...     0     1   \n",
              "3  ('Rated 4.0', 'RATED\\n  We went here on a week...     0     1   \n",
              "4  ('Rated 5.0', 'RATED\\n  The best thing about t...     0     1   \n",
              "\n",
              "   Sentiment_Score  Sentiment_Class  \\\n",
              "0           0.7430                3   \n",
              "1           0.9486                4   \n",
              "2           0.7964                3   \n",
              "3           0.9622                4   \n",
              "4           0.9461                4   \n",
              "\n",
              "                               modified_reviews_list  \\\n",
              "0  A beautiful place to dine in.The interiors tak...   \n",
              "1  I was here for dinner with my family on a week...   \n",
              "2  Its a restaurant near to Banashankari BDA. Me ...   \n",
              "3  We went here on a weekend and one of us had th...   \n",
              "4  The best thing about the place is itÃ\\x83\\x83Ã...   \n",
              "\n",
              "                                     cleaned_reviews  \n",
              "0  beautiful place dine interior take back mughal...  \n",
              "1  dinner family weekday restaurant completely em...  \n",
              "2  restaurant near banashankari bda along office ...  \n",
              "3  go weekend one u buffet two u take ala carte f...  \n",
              "4  best thing place ambiance second best thing yu...  "
            ],
            "text/html": [
              "\n",
              "  <div id=\"df-03bd1cc7-646a-402e-956d-98b8a296acb0\" class=\"colab-df-container\">\n",
              "    <div>\n",
              "<style scoped>\n",
              "    .dataframe tbody tr th:only-of-type {\n",
              "        vertical-align: middle;\n",
              "    }\n",
              "\n",
              "    .dataframe tbody tr th {\n",
              "        vertical-align: top;\n",
              "    }\n",
              "\n",
              "    .dataframe thead th {\n",
              "        text-align: right;\n",
              "    }\n",
              "</style>\n",
              "<table border=\"1\" class=\"dataframe\">\n",
              "  <thead>\n",
              "    <tr style=\"text-align: right;\">\n",
              "      <th></th>\n",
              "      <th>url</th>\n",
              "      <th>name</th>\n",
              "      <th>online_order</th>\n",
              "      <th>book_table</th>\n",
              "      <th>rate</th>\n",
              "      <th>votes</th>\n",
              "      <th>location</th>\n",
              "      <th>rest_type</th>\n",
              "      <th>cuisines</th>\n",
              "      <th>cost</th>\n",
              "      <th>reviews_list</th>\n",
              "      <th>type</th>\n",
              "      <th>city</th>\n",
              "      <th>Sentiment_Score</th>\n",
              "      <th>Sentiment_Class</th>\n",
              "      <th>modified_reviews_list</th>\n",
              "      <th>cleaned_reviews</th>\n",
              "    </tr>\n",
              "  </thead>\n",
              "  <tbody>\n",
              "    <tr>\n",
              "      <th>0</th>\n",
              "      <td>https://www.zomato.com/bangalore/jalsa-banasha...</td>\n",
              "      <td>2933</td>\n",
              "      <td>1</td>\n",
              "      <td>1</td>\n",
              "      <td>0.720882</td>\n",
              "      <td>0.611201</td>\n",
              "      <td>1</td>\n",
              "      <td>24</td>\n",
              "      <td>1972</td>\n",
              "      <td>0.557298</td>\n",
              "      <td>('Rated 4.0', 'RATED\\n  A beautiful place to d...</td>\n",
              "      <td>0</td>\n",
              "      <td>1</td>\n",
              "      <td>0.7430</td>\n",
              "      <td>3</td>\n",
              "      <td>A beautiful place to dine in.The interiors tak...</td>\n",
              "      <td>beautiful place dine interior take back mughal...</td>\n",
              "    </tr>\n",
              "    <tr>\n",
              "      <th>1</th>\n",
              "      <td>https://www.zomato.com/bangalore/jalsa-banasha...</td>\n",
              "      <td>2933</td>\n",
              "      <td>1</td>\n",
              "      <td>1</td>\n",
              "      <td>0.720882</td>\n",
              "      <td>0.611201</td>\n",
              "      <td>1</td>\n",
              "      <td>24</td>\n",
              "      <td>1972</td>\n",
              "      <td>0.557298</td>\n",
              "      <td>('Rated 4.0', 'RATED\\n  I was here for dinner ...</td>\n",
              "      <td>0</td>\n",
              "      <td>1</td>\n",
              "      <td>0.9486</td>\n",
              "      <td>4</td>\n",
              "      <td>I was here for dinner with my family on a week...</td>\n",
              "      <td>dinner family weekday restaurant completely em...</td>\n",
              "    </tr>\n",
              "    <tr>\n",
              "      <th>2</th>\n",
              "      <td>https://www.zomato.com/bangalore/jalsa-banasha...</td>\n",
              "      <td>2933</td>\n",
              "      <td>1</td>\n",
              "      <td>1</td>\n",
              "      <td>0.720882</td>\n",
              "      <td>0.611201</td>\n",
              "      <td>1</td>\n",
              "      <td>24</td>\n",
              "      <td>1972</td>\n",
              "      <td>0.557298</td>\n",
              "      <td>('Rated 2.0', 'RATED\\n  Its a restaurant near ...</td>\n",
              "      <td>0</td>\n",
              "      <td>1</td>\n",
              "      <td>0.7964</td>\n",
              "      <td>3</td>\n",
              "      <td>Its a restaurant near to Banashankari BDA. Me ...</td>\n",
              "      <td>restaurant near banashankari bda along office ...</td>\n",
              "    </tr>\n",
              "    <tr>\n",
              "      <th>3</th>\n",
              "      <td>https://www.zomato.com/bangalore/jalsa-banasha...</td>\n",
              "      <td>2933</td>\n",
              "      <td>1</td>\n",
              "      <td>1</td>\n",
              "      <td>0.720882</td>\n",
              "      <td>0.611201</td>\n",
              "      <td>1</td>\n",
              "      <td>24</td>\n",
              "      <td>1972</td>\n",
              "      <td>0.557298</td>\n",
              "      <td>('Rated 4.0', 'RATED\\n  We went here on a week...</td>\n",
              "      <td>0</td>\n",
              "      <td>1</td>\n",
              "      <td>0.9622</td>\n",
              "      <td>4</td>\n",
              "      <td>We went here on a weekend and one of us had th...</td>\n",
              "      <td>go weekend one u buffet two u take ala carte f...</td>\n",
              "    </tr>\n",
              "    <tr>\n",
              "      <th>4</th>\n",
              "      <td>https://www.zomato.com/bangalore/jalsa-banasha...</td>\n",
              "      <td>2933</td>\n",
              "      <td>1</td>\n",
              "      <td>1</td>\n",
              "      <td>0.720882</td>\n",
              "      <td>0.611201</td>\n",
              "      <td>1</td>\n",
              "      <td>24</td>\n",
              "      <td>1972</td>\n",
              "      <td>0.557298</td>\n",
              "      <td>('Rated 5.0', 'RATED\\n  The best thing about t...</td>\n",
              "      <td>0</td>\n",
              "      <td>1</td>\n",
              "      <td>0.9461</td>\n",
              "      <td>4</td>\n",
              "      <td>The best thing about the place is itÃ\\x83\\x83Ã...</td>\n",
              "      <td>best thing place ambiance second best thing yu...</td>\n",
              "    </tr>\n",
              "  </tbody>\n",
              "</table>\n",
              "</div>\n",
              "    <div class=\"colab-df-buttons\">\n",
              "\n",
              "  <div class=\"colab-df-container\">\n",
              "    <button class=\"colab-df-convert\" onclick=\"convertToInteractive('df-03bd1cc7-646a-402e-956d-98b8a296acb0')\"\n",
              "            title=\"Convert this dataframe to an interactive table.\"\n",
              "            style=\"display:none;\">\n",
              "\n",
              "  <svg xmlns=\"http://www.w3.org/2000/svg\" height=\"24px\" viewBox=\"0 -960 960 960\">\n",
              "    <path d=\"M120-120v-720h720v720H120Zm60-500h600v-160H180v160Zm220 220h160v-160H400v160Zm0 220h160v-160H400v160ZM180-400h160v-160H180v160Zm440 0h160v-160H620v160ZM180-180h160v-160H180v160Zm440 0h160v-160H620v160Z\"/>\n",
              "  </svg>\n",
              "    </button>\n",
              "\n",
              "  <style>\n",
              "    .colab-df-container {\n",
              "      display:flex;\n",
              "      gap: 12px;\n",
              "    }\n",
              "\n",
              "    .colab-df-convert {\n",
              "      background-color: #E8F0FE;\n",
              "      border: none;\n",
              "      border-radius: 50%;\n",
              "      cursor: pointer;\n",
              "      display: none;\n",
              "      fill: #1967D2;\n",
              "      height: 32px;\n",
              "      padding: 0 0 0 0;\n",
              "      width: 32px;\n",
              "    }\n",
              "\n",
              "    .colab-df-convert:hover {\n",
              "      background-color: #E2EBFA;\n",
              "      box-shadow: 0px 1px 2px rgba(60, 64, 67, 0.3), 0px 1px 3px 1px rgba(60, 64, 67, 0.15);\n",
              "      fill: #174EA6;\n",
              "    }\n",
              "\n",
              "    .colab-df-buttons div {\n",
              "      margin-bottom: 4px;\n",
              "    }\n",
              "\n",
              "    [theme=dark] .colab-df-convert {\n",
              "      background-color: #3B4455;\n",
              "      fill: #D2E3FC;\n",
              "    }\n",
              "\n",
              "    [theme=dark] .colab-df-convert:hover {\n",
              "      background-color: #434B5C;\n",
              "      box-shadow: 0px 1px 3px 1px rgba(0, 0, 0, 0.15);\n",
              "      filter: drop-shadow(0px 1px 2px rgba(0, 0, 0, 0.3));\n",
              "      fill: #FFFFFF;\n",
              "    }\n",
              "  </style>\n",
              "\n",
              "    <script>\n",
              "      const buttonEl =\n",
              "        document.querySelector('#df-03bd1cc7-646a-402e-956d-98b8a296acb0 button.colab-df-convert');\n",
              "      buttonEl.style.display =\n",
              "        google.colab.kernel.accessAllowed ? 'block' : 'none';\n",
              "\n",
              "      async function convertToInteractive(key) {\n",
              "        const element = document.querySelector('#df-03bd1cc7-646a-402e-956d-98b8a296acb0');\n",
              "        const dataTable =\n",
              "          await google.colab.kernel.invokeFunction('convertToInteractive',\n",
              "                                                    [key], {});\n",
              "        if (!dataTable) return;\n",
              "\n",
              "        const docLinkHtml = 'Like what you see? Visit the ' +\n",
              "          '<a target=\"_blank\" href=https://colab.research.google.com/notebooks/data_table.ipynb>data table notebook</a>'\n",
              "          + ' to learn more about interactive tables.';\n",
              "        element.innerHTML = '';\n",
              "        dataTable['output_type'] = 'display_data';\n",
              "        await google.colab.output.renderOutput(dataTable, element);\n",
              "        const docLink = document.createElement('div');\n",
              "        docLink.innerHTML = docLinkHtml;\n",
              "        element.appendChild(docLink);\n",
              "      }\n",
              "    </script>\n",
              "  </div>\n",
              "\n",
              "\n",
              "<div id=\"df-5bd42fc9-9523-4285-be89-97820fa58e8b\">\n",
              "  <button class=\"colab-df-quickchart\" onclick=\"quickchart('df-5bd42fc9-9523-4285-be89-97820fa58e8b')\"\n",
              "            title=\"Suggest charts\"\n",
              "            style=\"display:none;\">\n",
              "\n",
              "<svg xmlns=\"http://www.w3.org/2000/svg\" height=\"24px\"viewBox=\"0 0 24 24\"\n",
              "     width=\"24px\">\n",
              "    <g>\n",
              "        <path d=\"M19 3H5c-1.1 0-2 .9-2 2v14c0 1.1.9 2 2 2h14c1.1 0 2-.9 2-2V5c0-1.1-.9-2-2-2zM9 17H7v-7h2v7zm4 0h-2V7h2v10zm4 0h-2v-4h2v4z\"/>\n",
              "    </g>\n",
              "</svg>\n",
              "  </button>\n",
              "\n",
              "<style>\n",
              "  .colab-df-quickchart {\n",
              "      --bg-color: #E8F0FE;\n",
              "      --fill-color: #1967D2;\n",
              "      --hover-bg-color: #E2EBFA;\n",
              "      --hover-fill-color: #174EA6;\n",
              "      --disabled-fill-color: #AAA;\n",
              "      --disabled-bg-color: #DDD;\n",
              "  }\n",
              "\n",
              "  [theme=dark] .colab-df-quickchart {\n",
              "      --bg-color: #3B4455;\n",
              "      --fill-color: #D2E3FC;\n",
              "      --hover-bg-color: #434B5C;\n",
              "      --hover-fill-color: #FFFFFF;\n",
              "      --disabled-bg-color: #3B4455;\n",
              "      --disabled-fill-color: #666;\n",
              "  }\n",
              "\n",
              "  .colab-df-quickchart {\n",
              "    background-color: var(--bg-color);\n",
              "    border: none;\n",
              "    border-radius: 50%;\n",
              "    cursor: pointer;\n",
              "    display: none;\n",
              "    fill: var(--fill-color);\n",
              "    height: 32px;\n",
              "    padding: 0;\n",
              "    width: 32px;\n",
              "  }\n",
              "\n",
              "  .colab-df-quickchart:hover {\n",
              "    background-color: var(--hover-bg-color);\n",
              "    box-shadow: 0 1px 2px rgba(60, 64, 67, 0.3), 0 1px 3px 1px rgba(60, 64, 67, 0.15);\n",
              "    fill: var(--button-hover-fill-color);\n",
              "  }\n",
              "\n",
              "  .colab-df-quickchart-complete:disabled,\n",
              "  .colab-df-quickchart-complete:disabled:hover {\n",
              "    background-color: var(--disabled-bg-color);\n",
              "    fill: var(--disabled-fill-color);\n",
              "    box-shadow: none;\n",
              "  }\n",
              "\n",
              "  .colab-df-spinner {\n",
              "    border: 2px solid var(--fill-color);\n",
              "    border-color: transparent;\n",
              "    border-bottom-color: var(--fill-color);\n",
              "    animation:\n",
              "      spin 1s steps(1) infinite;\n",
              "  }\n",
              "\n",
              "  @keyframes spin {\n",
              "    0% {\n",
              "      border-color: transparent;\n",
              "      border-bottom-color: var(--fill-color);\n",
              "      border-left-color: var(--fill-color);\n",
              "    }\n",
              "    20% {\n",
              "      border-color: transparent;\n",
              "      border-left-color: var(--fill-color);\n",
              "      border-top-color: var(--fill-color);\n",
              "    }\n",
              "    30% {\n",
              "      border-color: transparent;\n",
              "      border-left-color: var(--fill-color);\n",
              "      border-top-color: var(--fill-color);\n",
              "      border-right-color: var(--fill-color);\n",
              "    }\n",
              "    40% {\n",
              "      border-color: transparent;\n",
              "      border-right-color: var(--fill-color);\n",
              "      border-top-color: var(--fill-color);\n",
              "    }\n",
              "    60% {\n",
              "      border-color: transparent;\n",
              "      border-right-color: var(--fill-color);\n",
              "    }\n",
              "    80% {\n",
              "      border-color: transparent;\n",
              "      border-right-color: var(--fill-color);\n",
              "      border-bottom-color: var(--fill-color);\n",
              "    }\n",
              "    90% {\n",
              "      border-color: transparent;\n",
              "      border-bottom-color: var(--fill-color);\n",
              "    }\n",
              "  }\n",
              "</style>\n",
              "\n",
              "  <script>\n",
              "    async function quickchart(key) {\n",
              "      const quickchartButtonEl =\n",
              "        document.querySelector('#' + key + ' button');\n",
              "      quickchartButtonEl.disabled = true;  // To prevent multiple clicks.\n",
              "      quickchartButtonEl.classList.add('colab-df-spinner');\n",
              "      try {\n",
              "        const charts = await google.colab.kernel.invokeFunction(\n",
              "            'suggestCharts', [key], {});\n",
              "      } catch (error) {\n",
              "        console.error('Error during call to suggestCharts:', error);\n",
              "      }\n",
              "      quickchartButtonEl.classList.remove('colab-df-spinner');\n",
              "      quickchartButtonEl.classList.add('colab-df-quickchart-complete');\n",
              "    }\n",
              "    (() => {\n",
              "      let quickchartButtonEl =\n",
              "        document.querySelector('#df-5bd42fc9-9523-4285-be89-97820fa58e8b button');\n",
              "      quickchartButtonEl.style.display =\n",
              "        google.colab.kernel.accessAllowed ? 'block' : 'none';\n",
              "    })();\n",
              "  </script>\n",
              "</div>\n",
              "\n",
              "    </div>\n",
              "  </div>\n"
            ],
            "application/vnd.google.colaboratory.intrinsic+json": {
              "type": "dataframe",
              "variable_name": "data"
            }
          },
          "metadata": {},
          "execution_count": 1
        }
      ]
    },
    {
      "cell_type": "code",
      "source": [
        "data.columns"
      ],
      "metadata": {
        "id": "t_GtI1LEXIyA",
        "colab": {
          "base_uri": "https://localhost:8080/"
        },
        "outputId": "d4642aac-c227-40cd-c748-9ba3e04b3da3"
      },
      "execution_count": null,
      "outputs": [
        {
          "output_type": "execute_result",
          "data": {
            "text/plain": [
              "Index(['url', 'name', 'online_order', 'book_table', 'rate', 'votes',\n",
              "       'location', 'rest_type', 'cuisines', 'cost', 'reviews_list', 'type',\n",
              "       'city', 'Sentiment_Score', 'Sentiment_Class', 'modified_reviews_list',\n",
              "       'cleaned_reviews'],\n",
              "      dtype='object')"
            ]
          },
          "metadata": {},
          "execution_count": 4
        }
      ]
    },
    {
      "cell_type": "code",
      "source": [
        "#adding the word embedding to the dataset and removing unnecessary columns\n",
        "import numpy as np\n",
        "from sklearn.preprocessing import StandardScaler\n",
        "\n",
        "data.drop(columns=['votes', 'reviews_list', 'modified_reviews_list'], inplace=True)\n",
        "data.rename(columns={'type': 'dining_type','cost': 'cost(for 2)'}, inplace=True)\n",
        "\n",
        "scaler = StandardScaler()\n",
        "columns_to_scale = ['cuisines', 'rest_type']\n",
        "data[columns_to_scale] = scaler.fit_transform(data[columns_to_scale])\n",
        "import gensim\n",
        "def text_to_word_embeddings(text, word2vec_model):\n",
        "    word_embeddings = []\n",
        "    for word in text.split():\n",
        "        if word in word2vec_model.wv:\n",
        "            word_embeddings.append(word2vec_model.wv[word])\n",
        "    return np.array(word_embeddings)\n",
        "\n",
        "data['word_embeddings_of_reviews'] = data['cleaned_reviews'].apply(text_to_word_embeddings, args=(word2vec_model,))\n",
        "data.head()"
      ],
      "metadata": {
        "id": "OvXCITR2pGpR",
        "colab": {
          "base_uri": "https://localhost:8080/",
          "height": 434
        },
        "outputId": "6a4aba8c-1604-43a0-beaf-8d5aef3e480d"
      },
      "execution_count": null,
      "outputs": [
        {
          "output_type": "execute_result",
          "data": {
            "text/plain": [
              "                                                 url  name  online_order  \\\n",
              "0  https://www.zomato.com/bangalore/jalsa-banasha...  2933             1   \n",
              "1  https://www.zomato.com/bangalore/jalsa-banasha...  2933             1   \n",
              "2  https://www.zomato.com/bangalore/jalsa-banasha...  2933             1   \n",
              "3  https://www.zomato.com/bangalore/jalsa-banasha...  2933             1   \n",
              "4  https://www.zomato.com/bangalore/jalsa-banasha...  2933             1   \n",
              "\n",
              "   book_table      rate  location  rest_type  cuisines  cost(for 2)  \\\n",
              "0           1  0.720882         1  -0.684284    1.1181     0.557298   \n",
              "1           1  0.720882         1  -0.684284    1.1181     0.557298   \n",
              "2           1  0.720882         1  -0.684284    1.1181     0.557298   \n",
              "3           1  0.720882         1  -0.684284    1.1181     0.557298   \n",
              "4           1  0.720882         1  -0.684284    1.1181     0.557298   \n",
              "\n",
              "   dining_type  city  Sentiment_Score  Sentiment_Class  \\\n",
              "0            0     1           0.7430                3   \n",
              "1            0     1           0.9486                4   \n",
              "2            0     1           0.7964                3   \n",
              "3            0     1           0.9622                4   \n",
              "4            0     1           0.9461                4   \n",
              "\n",
              "                                     cleaned_reviews  \\\n",
              "0  beautiful place dine interior take back mughal...   \n",
              "1  dinner family weekday restaurant completely em...   \n",
              "2  restaurant near banashankari bda along office ...   \n",
              "3  go weekend one u buffet two u take ala carte f...   \n",
              "4  best thing place ambiance second best thing yu...   \n",
              "\n",
              "                          word_embeddings_of_reviews  \n",
              "0  [[2.0981128, 1.815063, -6.8484993, 1.6597033, ...  \n",
              "1  [[0.77261764, 3.2976336, 1.0144088, -5.099168,...  \n",
              "2  [[4.081995, 4.763423, -2.1862926, 3.2217922, -...  \n",
              "3  [[2.0472045, 0.7242372, 3.7346416, -0.51295847...  \n",
              "4  [[1.6863357, 7.823443, -0.32242757, -0.3208254...  "
            ],
            "text/html": [
              "\n",
              "  <div id=\"df-34df2b2f-8d0d-48a0-ab30-13dc6f8ce1d7\" class=\"colab-df-container\">\n",
              "    <div>\n",
              "<style scoped>\n",
              "    .dataframe tbody tr th:only-of-type {\n",
              "        vertical-align: middle;\n",
              "    }\n",
              "\n",
              "    .dataframe tbody tr th {\n",
              "        vertical-align: top;\n",
              "    }\n",
              "\n",
              "    .dataframe thead th {\n",
              "        text-align: right;\n",
              "    }\n",
              "</style>\n",
              "<table border=\"1\" class=\"dataframe\">\n",
              "  <thead>\n",
              "    <tr style=\"text-align: right;\">\n",
              "      <th></th>\n",
              "      <th>url</th>\n",
              "      <th>name</th>\n",
              "      <th>online_order</th>\n",
              "      <th>book_table</th>\n",
              "      <th>rate</th>\n",
              "      <th>location</th>\n",
              "      <th>rest_type</th>\n",
              "      <th>cuisines</th>\n",
              "      <th>cost(for 2)</th>\n",
              "      <th>dining_type</th>\n",
              "      <th>city</th>\n",
              "      <th>Sentiment_Score</th>\n",
              "      <th>Sentiment_Class</th>\n",
              "      <th>cleaned_reviews</th>\n",
              "      <th>word_embeddings_of_reviews</th>\n",
              "    </tr>\n",
              "  </thead>\n",
              "  <tbody>\n",
              "    <tr>\n",
              "      <th>0</th>\n",
              "      <td>https://www.zomato.com/bangalore/jalsa-banasha...</td>\n",
              "      <td>2933</td>\n",
              "      <td>1</td>\n",
              "      <td>1</td>\n",
              "      <td>0.720882</td>\n",
              "      <td>1</td>\n",
              "      <td>-0.684284</td>\n",
              "      <td>1.1181</td>\n",
              "      <td>0.557298</td>\n",
              "      <td>0</td>\n",
              "      <td>1</td>\n",
              "      <td>0.7430</td>\n",
              "      <td>3</td>\n",
              "      <td>beautiful place dine interior take back mughal...</td>\n",
              "      <td>[[2.0981128, 1.815063, -6.8484993, 1.6597033, ...</td>\n",
              "    </tr>\n",
              "    <tr>\n",
              "      <th>1</th>\n",
              "      <td>https://www.zomato.com/bangalore/jalsa-banasha...</td>\n",
              "      <td>2933</td>\n",
              "      <td>1</td>\n",
              "      <td>1</td>\n",
              "      <td>0.720882</td>\n",
              "      <td>1</td>\n",
              "      <td>-0.684284</td>\n",
              "      <td>1.1181</td>\n",
              "      <td>0.557298</td>\n",
              "      <td>0</td>\n",
              "      <td>1</td>\n",
              "      <td>0.9486</td>\n",
              "      <td>4</td>\n",
              "      <td>dinner family weekday restaurant completely em...</td>\n",
              "      <td>[[0.77261764, 3.2976336, 1.0144088, -5.099168,...</td>\n",
              "    </tr>\n",
              "    <tr>\n",
              "      <th>2</th>\n",
              "      <td>https://www.zomato.com/bangalore/jalsa-banasha...</td>\n",
              "      <td>2933</td>\n",
              "      <td>1</td>\n",
              "      <td>1</td>\n",
              "      <td>0.720882</td>\n",
              "      <td>1</td>\n",
              "      <td>-0.684284</td>\n",
              "      <td>1.1181</td>\n",
              "      <td>0.557298</td>\n",
              "      <td>0</td>\n",
              "      <td>1</td>\n",
              "      <td>0.7964</td>\n",
              "      <td>3</td>\n",
              "      <td>restaurant near banashankari bda along office ...</td>\n",
              "      <td>[[4.081995, 4.763423, -2.1862926, 3.2217922, -...</td>\n",
              "    </tr>\n",
              "    <tr>\n",
              "      <th>3</th>\n",
              "      <td>https://www.zomato.com/bangalore/jalsa-banasha...</td>\n",
              "      <td>2933</td>\n",
              "      <td>1</td>\n",
              "      <td>1</td>\n",
              "      <td>0.720882</td>\n",
              "      <td>1</td>\n",
              "      <td>-0.684284</td>\n",
              "      <td>1.1181</td>\n",
              "      <td>0.557298</td>\n",
              "      <td>0</td>\n",
              "      <td>1</td>\n",
              "      <td>0.9622</td>\n",
              "      <td>4</td>\n",
              "      <td>go weekend one u buffet two u take ala carte f...</td>\n",
              "      <td>[[2.0472045, 0.7242372, 3.7346416, -0.51295847...</td>\n",
              "    </tr>\n",
              "    <tr>\n",
              "      <th>4</th>\n",
              "      <td>https://www.zomato.com/bangalore/jalsa-banasha...</td>\n",
              "      <td>2933</td>\n",
              "      <td>1</td>\n",
              "      <td>1</td>\n",
              "      <td>0.720882</td>\n",
              "      <td>1</td>\n",
              "      <td>-0.684284</td>\n",
              "      <td>1.1181</td>\n",
              "      <td>0.557298</td>\n",
              "      <td>0</td>\n",
              "      <td>1</td>\n",
              "      <td>0.9461</td>\n",
              "      <td>4</td>\n",
              "      <td>best thing place ambiance second best thing yu...</td>\n",
              "      <td>[[1.6863357, 7.823443, -0.32242757, -0.3208254...</td>\n",
              "    </tr>\n",
              "  </tbody>\n",
              "</table>\n",
              "</div>\n",
              "    <div class=\"colab-df-buttons\">\n",
              "\n",
              "  <div class=\"colab-df-container\">\n",
              "    <button class=\"colab-df-convert\" onclick=\"convertToInteractive('df-34df2b2f-8d0d-48a0-ab30-13dc6f8ce1d7')\"\n",
              "            title=\"Convert this dataframe to an interactive table.\"\n",
              "            style=\"display:none;\">\n",
              "\n",
              "  <svg xmlns=\"http://www.w3.org/2000/svg\" height=\"24px\" viewBox=\"0 -960 960 960\">\n",
              "    <path d=\"M120-120v-720h720v720H120Zm60-500h600v-160H180v160Zm220 220h160v-160H400v160Zm0 220h160v-160H400v160ZM180-400h160v-160H180v160Zm440 0h160v-160H620v160ZM180-180h160v-160H180v160Zm440 0h160v-160H620v160Z\"/>\n",
              "  </svg>\n",
              "    </button>\n",
              "\n",
              "  <style>\n",
              "    .colab-df-container {\n",
              "      display:flex;\n",
              "      gap: 12px;\n",
              "    }\n",
              "\n",
              "    .colab-df-convert {\n",
              "      background-color: #E8F0FE;\n",
              "      border: none;\n",
              "      border-radius: 50%;\n",
              "      cursor: pointer;\n",
              "      display: none;\n",
              "      fill: #1967D2;\n",
              "      height: 32px;\n",
              "      padding: 0 0 0 0;\n",
              "      width: 32px;\n",
              "    }\n",
              "\n",
              "    .colab-df-convert:hover {\n",
              "      background-color: #E2EBFA;\n",
              "      box-shadow: 0px 1px 2px rgba(60, 64, 67, 0.3), 0px 1px 3px 1px rgba(60, 64, 67, 0.15);\n",
              "      fill: #174EA6;\n",
              "    }\n",
              "\n",
              "    .colab-df-buttons div {\n",
              "      margin-bottom: 4px;\n",
              "    }\n",
              "\n",
              "    [theme=dark] .colab-df-convert {\n",
              "      background-color: #3B4455;\n",
              "      fill: #D2E3FC;\n",
              "    }\n",
              "\n",
              "    [theme=dark] .colab-df-convert:hover {\n",
              "      background-color: #434B5C;\n",
              "      box-shadow: 0px 1px 3px 1px rgba(0, 0, 0, 0.15);\n",
              "      filter: drop-shadow(0px 1px 2px rgba(0, 0, 0, 0.3));\n",
              "      fill: #FFFFFF;\n",
              "    }\n",
              "  </style>\n",
              "\n",
              "    <script>\n",
              "      const buttonEl =\n",
              "        document.querySelector('#df-34df2b2f-8d0d-48a0-ab30-13dc6f8ce1d7 button.colab-df-convert');\n",
              "      buttonEl.style.display =\n",
              "        google.colab.kernel.accessAllowed ? 'block' : 'none';\n",
              "\n",
              "      async function convertToInteractive(key) {\n",
              "        const element = document.querySelector('#df-34df2b2f-8d0d-48a0-ab30-13dc6f8ce1d7');\n",
              "        const dataTable =\n",
              "          await google.colab.kernel.invokeFunction('convertToInteractive',\n",
              "                                                    [key], {});\n",
              "        if (!dataTable) return;\n",
              "\n",
              "        const docLinkHtml = 'Like what you see? Visit the ' +\n",
              "          '<a target=\"_blank\" href=https://colab.research.google.com/notebooks/data_table.ipynb>data table notebook</a>'\n",
              "          + ' to learn more about interactive tables.';\n",
              "        element.innerHTML = '';\n",
              "        dataTable['output_type'] = 'display_data';\n",
              "        await google.colab.output.renderOutput(dataTable, element);\n",
              "        const docLink = document.createElement('div');\n",
              "        docLink.innerHTML = docLinkHtml;\n",
              "        element.appendChild(docLink);\n",
              "      }\n",
              "    </script>\n",
              "  </div>\n",
              "\n",
              "\n",
              "<div id=\"df-6f975f96-1fe6-4ac8-8112-21126b834aa9\">\n",
              "  <button class=\"colab-df-quickchart\" onclick=\"quickchart('df-6f975f96-1fe6-4ac8-8112-21126b834aa9')\"\n",
              "            title=\"Suggest charts\"\n",
              "            style=\"display:none;\">\n",
              "\n",
              "<svg xmlns=\"http://www.w3.org/2000/svg\" height=\"24px\"viewBox=\"0 0 24 24\"\n",
              "     width=\"24px\">\n",
              "    <g>\n",
              "        <path d=\"M19 3H5c-1.1 0-2 .9-2 2v14c0 1.1.9 2 2 2h14c1.1 0 2-.9 2-2V5c0-1.1-.9-2-2-2zM9 17H7v-7h2v7zm4 0h-2V7h2v10zm4 0h-2v-4h2v4z\"/>\n",
              "    </g>\n",
              "</svg>\n",
              "  </button>\n",
              "\n",
              "<style>\n",
              "  .colab-df-quickchart {\n",
              "      --bg-color: #E8F0FE;\n",
              "      --fill-color: #1967D2;\n",
              "      --hover-bg-color: #E2EBFA;\n",
              "      --hover-fill-color: #174EA6;\n",
              "      --disabled-fill-color: #AAA;\n",
              "      --disabled-bg-color: #DDD;\n",
              "  }\n",
              "\n",
              "  [theme=dark] .colab-df-quickchart {\n",
              "      --bg-color: #3B4455;\n",
              "      --fill-color: #D2E3FC;\n",
              "      --hover-bg-color: #434B5C;\n",
              "      --hover-fill-color: #FFFFFF;\n",
              "      --disabled-bg-color: #3B4455;\n",
              "      --disabled-fill-color: #666;\n",
              "  }\n",
              "\n",
              "  .colab-df-quickchart {\n",
              "    background-color: var(--bg-color);\n",
              "    border: none;\n",
              "    border-radius: 50%;\n",
              "    cursor: pointer;\n",
              "    display: none;\n",
              "    fill: var(--fill-color);\n",
              "    height: 32px;\n",
              "    padding: 0;\n",
              "    width: 32px;\n",
              "  }\n",
              "\n",
              "  .colab-df-quickchart:hover {\n",
              "    background-color: var(--hover-bg-color);\n",
              "    box-shadow: 0 1px 2px rgba(60, 64, 67, 0.3), 0 1px 3px 1px rgba(60, 64, 67, 0.15);\n",
              "    fill: var(--button-hover-fill-color);\n",
              "  }\n",
              "\n",
              "  .colab-df-quickchart-complete:disabled,\n",
              "  .colab-df-quickchart-complete:disabled:hover {\n",
              "    background-color: var(--disabled-bg-color);\n",
              "    fill: var(--disabled-fill-color);\n",
              "    box-shadow: none;\n",
              "  }\n",
              "\n",
              "  .colab-df-spinner {\n",
              "    border: 2px solid var(--fill-color);\n",
              "    border-color: transparent;\n",
              "    border-bottom-color: var(--fill-color);\n",
              "    animation:\n",
              "      spin 1s steps(1) infinite;\n",
              "  }\n",
              "\n",
              "  @keyframes spin {\n",
              "    0% {\n",
              "      border-color: transparent;\n",
              "      border-bottom-color: var(--fill-color);\n",
              "      border-left-color: var(--fill-color);\n",
              "    }\n",
              "    20% {\n",
              "      border-color: transparent;\n",
              "      border-left-color: var(--fill-color);\n",
              "      border-top-color: var(--fill-color);\n",
              "    }\n",
              "    30% {\n",
              "      border-color: transparent;\n",
              "      border-left-color: var(--fill-color);\n",
              "      border-top-color: var(--fill-color);\n",
              "      border-right-color: var(--fill-color);\n",
              "    }\n",
              "    40% {\n",
              "      border-color: transparent;\n",
              "      border-right-color: var(--fill-color);\n",
              "      border-top-color: var(--fill-color);\n",
              "    }\n",
              "    60% {\n",
              "      border-color: transparent;\n",
              "      border-right-color: var(--fill-color);\n",
              "    }\n",
              "    80% {\n",
              "      border-color: transparent;\n",
              "      border-right-color: var(--fill-color);\n",
              "      border-bottom-color: var(--fill-color);\n",
              "    }\n",
              "    90% {\n",
              "      border-color: transparent;\n",
              "      border-bottom-color: var(--fill-color);\n",
              "    }\n",
              "  }\n",
              "</style>\n",
              "\n",
              "  <script>\n",
              "    async function quickchart(key) {\n",
              "      const quickchartButtonEl =\n",
              "        document.querySelector('#' + key + ' button');\n",
              "      quickchartButtonEl.disabled = true;  // To prevent multiple clicks.\n",
              "      quickchartButtonEl.classList.add('colab-df-spinner');\n",
              "      try {\n",
              "        const charts = await google.colab.kernel.invokeFunction(\n",
              "            'suggestCharts', [key], {});\n",
              "      } catch (error) {\n",
              "        console.error('Error during call to suggestCharts:', error);\n",
              "      }\n",
              "      quickchartButtonEl.classList.remove('colab-df-spinner');\n",
              "      quickchartButtonEl.classList.add('colab-df-quickchart-complete');\n",
              "    }\n",
              "    (() => {\n",
              "      let quickchartButtonEl =\n",
              "        document.querySelector('#df-6f975f96-1fe6-4ac8-8112-21126b834aa9 button');\n",
              "      quickchartButtonEl.style.display =\n",
              "        google.colab.kernel.accessAllowed ? 'block' : 'none';\n",
              "    })();\n",
              "  </script>\n",
              "</div>\n",
              "\n",
              "    </div>\n",
              "  </div>\n"
            ],
            "application/vnd.google.colaboratory.intrinsic+json": {
              "type": "dataframe",
              "variable_name": "data"
            }
          },
          "metadata": {},
          "execution_count": 2
        }
      ]
    },
    {
      "cell_type": "code",
      "source": [
        "data['location'].nunique()"
      ],
      "metadata": {
        "colab": {
          "base_uri": "https://localhost:8080/"
        },
        "id": "r4cqbultJoy5",
        "outputId": "f81c07c1-7cf5-4344-c01b-927a9fd02c35"
      },
      "execution_count": null,
      "outputs": [
        {
          "output_type": "execute_result",
          "data": {
            "text/plain": [
              "90"
            ]
          },
          "metadata": {},
          "execution_count": 5
        }
      ]
    },
    {
      "cell_type": "code",
      "source": [
        "# location = 22 is the BTM neighbourhood  Byrasandra, Tavarekere and Madiwala Layout\n",
        "data['location'].value_counts().sort_values(ascending=False)"
      ],
      "metadata": {
        "colab": {
          "base_uri": "https://localhost:8080/"
        },
        "id": "Wku1HwB3aD7A",
        "outputId": "1e60e403-488e-4f69-e20b-abc55a7531a9"
      },
      "execution_count": null,
      "outputs": [
        {
          "output_type": "execute_result",
          "data": {
            "text/plain": [
              "44    132029\n",
              "0      84821\n",
              "27     73570\n",
              "22     64408\n",
              "55     56257\n",
              "       ...  \n",
              "81        29\n",
              "38        27\n",
              "23        17\n",
              "88        15\n",
              "65         9\n",
              "Name: location, Length: 90, dtype: int64"
            ]
          },
          "metadata": {},
          "execution_count": 4
        }
      ]
    },
    {
      "cell_type": "code",
      "source": [
        "new_df = data[data['location'] == 22]\n",
        "\n",
        "from sklearn.preprocessing import StandardScaler\n",
        "scaler = StandardScaler()\n",
        "# columns_to_scale = ['dining_type', 'city']\n",
        "new_df[['dining_type']] = scaler.fit_transform(new_df[['dining_type']])\n",
        "new_df.head()"
      ],
      "metadata": {
        "id": "knwQnRBQ6Llz"
      },
      "execution_count": null,
      "outputs": []
    },
    {
      "cell_type": "code",
      "source": [
        "new_df.shape"
      ],
      "metadata": {
        "colab": {
          "base_uri": "https://localhost:8080/"
        },
        "id": "Fed9laUF6buk",
        "outputId": "0cc1ba2b-9c24-4cbd-a3bb-efc5cf86a99d"
      },
      "execution_count": null,
      "outputs": [
        {
          "output_type": "execute_result",
          "data": {
            "text/plain": [
              "(64408, 15)"
            ]
          },
          "metadata": {},
          "execution_count": 10
        }
      ]
    },
    {
      "cell_type": "code",
      "source": [
        "import pickle\n",
        "with open('/content/drive/MyDrive/Kaggle/data location = 22(BTM).pkl', 'wb') as f:\n",
        "  pickle.dump(new_df, f)"
      ],
      "metadata": {
        "id": "dfh4X96bOqot"
      },
      "execution_count": null,
      "outputs": []
    },
    {
      "cell_type": "markdown",
      "source": [
        "---\n",
        "---\n",
        "\n"
      ],
      "metadata": {
        "id": "XsTVCddgALT7"
      }
    },
    {
      "cell_type": "code",
      "source": [
        "import pandas as pd\n",
        "from google.colab import drive\n",
        "drive.mount('/content/drive')\n",
        "data_btm = pd.read_pickle('/content/drive/MyDrive/Kaggle/data location = 22(BTM).pkl')\n",
        "data_btm.head()"
      ],
      "metadata": {
        "id": "7C2KN8_kgifh",
        "colab": {
          "base_uri": "https://localhost:8080/",
          "height": 451
        },
        "outputId": "12ca2c18-7a51-4da5-f1d5-2ab37e007a8b"
      },
      "execution_count": 1,
      "outputs": [
        {
          "output_type": "stream",
          "name": "stdout",
          "text": [
            "Mounted at /content/drive\n"
          ]
        },
        {
          "output_type": "execute_result",
          "data": {
            "text/plain": [
              "                                                     url  name  online_order  \\\n",
              "54161  https://www.zomato.com/bangalore/navya-foods-h...  4124             1   \n",
              "69129  https://www.zomato.com/bangalore/the-paratha-c...  6375             1   \n",
              "69130  https://www.zomato.com/bangalore/the-paratha-c...  6375             1   \n",
              "69131  https://www.zomato.com/bangalore/the-paratha-c...  6375             1   \n",
              "69132  https://www.zomato.com/bangalore/the-paratha-c...  6375             1   \n",
              "\n",
              "       book_table      rate  location  rest_type  cuisines  cost(for 2)  \\\n",
              "54161           0  0.286423        22   1.278466  1.001651    -0.582052   \n",
              "69129           0  0.845013        22  -0.203611  0.647824    -0.354182   \n",
              "69130           0  0.845013        22  -0.203611  0.647824    -0.354182   \n",
              "69131           0  0.845013        22  -0.203611  0.647824    -0.354182   \n",
              "69132           0  0.845013        22  -0.203611  0.647824    -0.354182   \n",
              "\n",
              "       dining_type  city  Sentiment_Score  Sentiment_Class  \\\n",
              "54161    -0.486294     3           0.9002                4   \n",
              "69129    -0.486294     4           0.7885                3   \n",
              "69130    -0.486294     4           0.9623                4   \n",
              "69131    -0.486294     4           0.8297                4   \n",
              "69132    -0.486294     4           0.9854                4   \n",
              "\n",
              "                                         cleaned_reviews  \\\n",
              "54161  boneless biriyani good like much homely foods ...   \n",
              "69129  x ordered place multiple time love food favour...   \n",
              "69130  new outlet hsr serve best food hsr guess try a...   \n",
              "69131  place order aloo paratha dal makhani box parat...   \n",
              "69132  go zomato find place place order aloo paratha ...   \n",
              "\n",
              "                              word_embeddings_of_reviews  \n",
              "54161  [[0.72709286, 2.2768533, 3.0795612, -5.3143263...  \n",
              "69129  [[3.6359832, -0.41793633, 2.6480174, -0.356185...  \n",
              "69130  [[2.5347857, 0.22424214, 1.9644408, 3.3490353,...  \n",
              "69131  [[3.2815177, 2.9132953, -1.1734662, 2.2773705,...  \n",
              "69132  [[2.0472045, 0.7242372, 3.7346416, -0.51295847...  "
            ],
            "text/html": [
              "\n",
              "  <div id=\"df-dbeba1cc-62e8-4abe-a16b-51655a6aeba8\" class=\"colab-df-container\">\n",
              "    <div>\n",
              "<style scoped>\n",
              "    .dataframe tbody tr th:only-of-type {\n",
              "        vertical-align: middle;\n",
              "    }\n",
              "\n",
              "    .dataframe tbody tr th {\n",
              "        vertical-align: top;\n",
              "    }\n",
              "\n",
              "    .dataframe thead th {\n",
              "        text-align: right;\n",
              "    }\n",
              "</style>\n",
              "<table border=\"1\" class=\"dataframe\">\n",
              "  <thead>\n",
              "    <tr style=\"text-align: right;\">\n",
              "      <th></th>\n",
              "      <th>url</th>\n",
              "      <th>name</th>\n",
              "      <th>online_order</th>\n",
              "      <th>book_table</th>\n",
              "      <th>rate</th>\n",
              "      <th>location</th>\n",
              "      <th>rest_type</th>\n",
              "      <th>cuisines</th>\n",
              "      <th>cost(for 2)</th>\n",
              "      <th>dining_type</th>\n",
              "      <th>city</th>\n",
              "      <th>Sentiment_Score</th>\n",
              "      <th>Sentiment_Class</th>\n",
              "      <th>cleaned_reviews</th>\n",
              "      <th>word_embeddings_of_reviews</th>\n",
              "    </tr>\n",
              "  </thead>\n",
              "  <tbody>\n",
              "    <tr>\n",
              "      <th>54161</th>\n",
              "      <td>https://www.zomato.com/bangalore/navya-foods-h...</td>\n",
              "      <td>4124</td>\n",
              "      <td>1</td>\n",
              "      <td>0</td>\n",
              "      <td>0.286423</td>\n",
              "      <td>22</td>\n",
              "      <td>1.278466</td>\n",
              "      <td>1.001651</td>\n",
              "      <td>-0.582052</td>\n",
              "      <td>-0.486294</td>\n",
              "      <td>3</td>\n",
              "      <td>0.9002</td>\n",
              "      <td>4</td>\n",
              "      <td>boneless biriyani good like much homely foods ...</td>\n",
              "      <td>[[0.72709286, 2.2768533, 3.0795612, -5.3143263...</td>\n",
              "    </tr>\n",
              "    <tr>\n",
              "      <th>69129</th>\n",
              "      <td>https://www.zomato.com/bangalore/the-paratha-c...</td>\n",
              "      <td>6375</td>\n",
              "      <td>1</td>\n",
              "      <td>0</td>\n",
              "      <td>0.845013</td>\n",
              "      <td>22</td>\n",
              "      <td>-0.203611</td>\n",
              "      <td>0.647824</td>\n",
              "      <td>-0.354182</td>\n",
              "      <td>-0.486294</td>\n",
              "      <td>4</td>\n",
              "      <td>0.7885</td>\n",
              "      <td>3</td>\n",
              "      <td>x ordered place multiple time love food favour...</td>\n",
              "      <td>[[3.6359832, -0.41793633, 2.6480174, -0.356185...</td>\n",
              "    </tr>\n",
              "    <tr>\n",
              "      <th>69130</th>\n",
              "      <td>https://www.zomato.com/bangalore/the-paratha-c...</td>\n",
              "      <td>6375</td>\n",
              "      <td>1</td>\n",
              "      <td>0</td>\n",
              "      <td>0.845013</td>\n",
              "      <td>22</td>\n",
              "      <td>-0.203611</td>\n",
              "      <td>0.647824</td>\n",
              "      <td>-0.354182</td>\n",
              "      <td>-0.486294</td>\n",
              "      <td>4</td>\n",
              "      <td>0.9623</td>\n",
              "      <td>4</td>\n",
              "      <td>new outlet hsr serve best food hsr guess try a...</td>\n",
              "      <td>[[2.5347857, 0.22424214, 1.9644408, 3.3490353,...</td>\n",
              "    </tr>\n",
              "    <tr>\n",
              "      <th>69131</th>\n",
              "      <td>https://www.zomato.com/bangalore/the-paratha-c...</td>\n",
              "      <td>6375</td>\n",
              "      <td>1</td>\n",
              "      <td>0</td>\n",
              "      <td>0.845013</td>\n",
              "      <td>22</td>\n",
              "      <td>-0.203611</td>\n",
              "      <td>0.647824</td>\n",
              "      <td>-0.354182</td>\n",
              "      <td>-0.486294</td>\n",
              "      <td>4</td>\n",
              "      <td>0.8297</td>\n",
              "      <td>4</td>\n",
              "      <td>place order aloo paratha dal makhani box parat...</td>\n",
              "      <td>[[3.2815177, 2.9132953, -1.1734662, 2.2773705,...</td>\n",
              "    </tr>\n",
              "    <tr>\n",
              "      <th>69132</th>\n",
              "      <td>https://www.zomato.com/bangalore/the-paratha-c...</td>\n",
              "      <td>6375</td>\n",
              "      <td>1</td>\n",
              "      <td>0</td>\n",
              "      <td>0.845013</td>\n",
              "      <td>22</td>\n",
              "      <td>-0.203611</td>\n",
              "      <td>0.647824</td>\n",
              "      <td>-0.354182</td>\n",
              "      <td>-0.486294</td>\n",
              "      <td>4</td>\n",
              "      <td>0.9854</td>\n",
              "      <td>4</td>\n",
              "      <td>go zomato find place place order aloo paratha ...</td>\n",
              "      <td>[[2.0472045, 0.7242372, 3.7346416, -0.51295847...</td>\n",
              "    </tr>\n",
              "  </tbody>\n",
              "</table>\n",
              "</div>\n",
              "    <div class=\"colab-df-buttons\">\n",
              "\n",
              "  <div class=\"colab-df-container\">\n",
              "    <button class=\"colab-df-convert\" onclick=\"convertToInteractive('df-dbeba1cc-62e8-4abe-a16b-51655a6aeba8')\"\n",
              "            title=\"Convert this dataframe to an interactive table.\"\n",
              "            style=\"display:none;\">\n",
              "\n",
              "  <svg xmlns=\"http://www.w3.org/2000/svg\" height=\"24px\" viewBox=\"0 -960 960 960\">\n",
              "    <path d=\"M120-120v-720h720v720H120Zm60-500h600v-160H180v160Zm220 220h160v-160H400v160Zm0 220h160v-160H400v160ZM180-400h160v-160H180v160Zm440 0h160v-160H620v160ZM180-180h160v-160H180v160Zm440 0h160v-160H620v160Z\"/>\n",
              "  </svg>\n",
              "    </button>\n",
              "\n",
              "  <style>\n",
              "    .colab-df-container {\n",
              "      display:flex;\n",
              "      gap: 12px;\n",
              "    }\n",
              "\n",
              "    .colab-df-convert {\n",
              "      background-color: #E8F0FE;\n",
              "      border: none;\n",
              "      border-radius: 50%;\n",
              "      cursor: pointer;\n",
              "      display: none;\n",
              "      fill: #1967D2;\n",
              "      height: 32px;\n",
              "      padding: 0 0 0 0;\n",
              "      width: 32px;\n",
              "    }\n",
              "\n",
              "    .colab-df-convert:hover {\n",
              "      background-color: #E2EBFA;\n",
              "      box-shadow: 0px 1px 2px rgba(60, 64, 67, 0.3), 0px 1px 3px 1px rgba(60, 64, 67, 0.15);\n",
              "      fill: #174EA6;\n",
              "    }\n",
              "\n",
              "    .colab-df-buttons div {\n",
              "      margin-bottom: 4px;\n",
              "    }\n",
              "\n",
              "    [theme=dark] .colab-df-convert {\n",
              "      background-color: #3B4455;\n",
              "      fill: #D2E3FC;\n",
              "    }\n",
              "\n",
              "    [theme=dark] .colab-df-convert:hover {\n",
              "      background-color: #434B5C;\n",
              "      box-shadow: 0px 1px 3px 1px rgba(0, 0, 0, 0.15);\n",
              "      filter: drop-shadow(0px 1px 2px rgba(0, 0, 0, 0.3));\n",
              "      fill: #FFFFFF;\n",
              "    }\n",
              "  </style>\n",
              "\n",
              "    <script>\n",
              "      const buttonEl =\n",
              "        document.querySelector('#df-dbeba1cc-62e8-4abe-a16b-51655a6aeba8 button.colab-df-convert');\n",
              "      buttonEl.style.display =\n",
              "        google.colab.kernel.accessAllowed ? 'block' : 'none';\n",
              "\n",
              "      async function convertToInteractive(key) {\n",
              "        const element = document.querySelector('#df-dbeba1cc-62e8-4abe-a16b-51655a6aeba8');\n",
              "        const dataTable =\n",
              "          await google.colab.kernel.invokeFunction('convertToInteractive',\n",
              "                                                    [key], {});\n",
              "        if (!dataTable) return;\n",
              "\n",
              "        const docLinkHtml = 'Like what you see? Visit the ' +\n",
              "          '<a target=\"_blank\" href=https://colab.research.google.com/notebooks/data_table.ipynb>data table notebook</a>'\n",
              "          + ' to learn more about interactive tables.';\n",
              "        element.innerHTML = '';\n",
              "        dataTable['output_type'] = 'display_data';\n",
              "        await google.colab.output.renderOutput(dataTable, element);\n",
              "        const docLink = document.createElement('div');\n",
              "        docLink.innerHTML = docLinkHtml;\n",
              "        element.appendChild(docLink);\n",
              "      }\n",
              "    </script>\n",
              "  </div>\n",
              "\n",
              "\n",
              "<div id=\"df-ea1eac44-78ac-40f4-a0c5-91f4aaa7c843\">\n",
              "  <button class=\"colab-df-quickchart\" onclick=\"quickchart('df-ea1eac44-78ac-40f4-a0c5-91f4aaa7c843')\"\n",
              "            title=\"Suggest charts\"\n",
              "            style=\"display:none;\">\n",
              "\n",
              "<svg xmlns=\"http://www.w3.org/2000/svg\" height=\"24px\"viewBox=\"0 0 24 24\"\n",
              "     width=\"24px\">\n",
              "    <g>\n",
              "        <path d=\"M19 3H5c-1.1 0-2 .9-2 2v14c0 1.1.9 2 2 2h14c1.1 0 2-.9 2-2V5c0-1.1-.9-2-2-2zM9 17H7v-7h2v7zm4 0h-2V7h2v10zm4 0h-2v-4h2v4z\"/>\n",
              "    </g>\n",
              "</svg>\n",
              "  </button>\n",
              "\n",
              "<style>\n",
              "  .colab-df-quickchart {\n",
              "      --bg-color: #E8F0FE;\n",
              "      --fill-color: #1967D2;\n",
              "      --hover-bg-color: #E2EBFA;\n",
              "      --hover-fill-color: #174EA6;\n",
              "      --disabled-fill-color: #AAA;\n",
              "      --disabled-bg-color: #DDD;\n",
              "  }\n",
              "\n",
              "  [theme=dark] .colab-df-quickchart {\n",
              "      --bg-color: #3B4455;\n",
              "      --fill-color: #D2E3FC;\n",
              "      --hover-bg-color: #434B5C;\n",
              "      --hover-fill-color: #FFFFFF;\n",
              "      --disabled-bg-color: #3B4455;\n",
              "      --disabled-fill-color: #666;\n",
              "  }\n",
              "\n",
              "  .colab-df-quickchart {\n",
              "    background-color: var(--bg-color);\n",
              "    border: none;\n",
              "    border-radius: 50%;\n",
              "    cursor: pointer;\n",
              "    display: none;\n",
              "    fill: var(--fill-color);\n",
              "    height: 32px;\n",
              "    padding: 0;\n",
              "    width: 32px;\n",
              "  }\n",
              "\n",
              "  .colab-df-quickchart:hover {\n",
              "    background-color: var(--hover-bg-color);\n",
              "    box-shadow: 0 1px 2px rgba(60, 64, 67, 0.3), 0 1px 3px 1px rgba(60, 64, 67, 0.15);\n",
              "    fill: var(--button-hover-fill-color);\n",
              "  }\n",
              "\n",
              "  .colab-df-quickchart-complete:disabled,\n",
              "  .colab-df-quickchart-complete:disabled:hover {\n",
              "    background-color: var(--disabled-bg-color);\n",
              "    fill: var(--disabled-fill-color);\n",
              "    box-shadow: none;\n",
              "  }\n",
              "\n",
              "  .colab-df-spinner {\n",
              "    border: 2px solid var(--fill-color);\n",
              "    border-color: transparent;\n",
              "    border-bottom-color: var(--fill-color);\n",
              "    animation:\n",
              "      spin 1s steps(1) infinite;\n",
              "  }\n",
              "\n",
              "  @keyframes spin {\n",
              "    0% {\n",
              "      border-color: transparent;\n",
              "      border-bottom-color: var(--fill-color);\n",
              "      border-left-color: var(--fill-color);\n",
              "    }\n",
              "    20% {\n",
              "      border-color: transparent;\n",
              "      border-left-color: var(--fill-color);\n",
              "      border-top-color: var(--fill-color);\n",
              "    }\n",
              "    30% {\n",
              "      border-color: transparent;\n",
              "      border-left-color: var(--fill-color);\n",
              "      border-top-color: var(--fill-color);\n",
              "      border-right-color: var(--fill-color);\n",
              "    }\n",
              "    40% {\n",
              "      border-color: transparent;\n",
              "      border-right-color: var(--fill-color);\n",
              "      border-top-color: var(--fill-color);\n",
              "    }\n",
              "    60% {\n",
              "      border-color: transparent;\n",
              "      border-right-color: var(--fill-color);\n",
              "    }\n",
              "    80% {\n",
              "      border-color: transparent;\n",
              "      border-right-color: var(--fill-color);\n",
              "      border-bottom-color: var(--fill-color);\n",
              "    }\n",
              "    90% {\n",
              "      border-color: transparent;\n",
              "      border-bottom-color: var(--fill-color);\n",
              "    }\n",
              "  }\n",
              "</style>\n",
              "\n",
              "  <script>\n",
              "    async function quickchart(key) {\n",
              "      const quickchartButtonEl =\n",
              "        document.querySelector('#' + key + ' button');\n",
              "      quickchartButtonEl.disabled = true;  // To prevent multiple clicks.\n",
              "      quickchartButtonEl.classList.add('colab-df-spinner');\n",
              "      try {\n",
              "        const charts = await google.colab.kernel.invokeFunction(\n",
              "            'suggestCharts', [key], {});\n",
              "      } catch (error) {\n",
              "        console.error('Error during call to suggestCharts:', error);\n",
              "      }\n",
              "      quickchartButtonEl.classList.remove('colab-df-spinner');\n",
              "      quickchartButtonEl.classList.add('colab-df-quickchart-complete');\n",
              "    }\n",
              "    (() => {\n",
              "      let quickchartButtonEl =\n",
              "        document.querySelector('#df-ea1eac44-78ac-40f4-a0c5-91f4aaa7c843 button');\n",
              "      quickchartButtonEl.style.display =\n",
              "        google.colab.kernel.accessAllowed ? 'block' : 'none';\n",
              "    })();\n",
              "  </script>\n",
              "</div>\n",
              "\n",
              "    </div>\n",
              "  </div>\n"
            ],
            "application/vnd.google.colaboratory.intrinsic+json": {
              "type": "dataframe",
              "variable_name": "data_btm",
              "summary": "{\n  \"name\": \"data_btm\",\n  \"rows\": 64408,\n  \"fields\": [\n    {\n      \"column\": \"url\",\n      \"properties\": {\n        \"dtype\": \"category\",\n        \"num_unique_values\": 2194,\n        \"samples\": [\n          \"https://www.zomato.com/bangalore/silbatti-hsr?context=eyJzZSI6eyJlIjpbIjE4NzA5Nzk0IiwiMTg2Njc5MzciLCIxODcxODEwMiIsIjE4NjIyMjI5IiwxODM5Njc0NywiMTg3NzUwNTciLCIxODYxNTAxNiIsIjE4NDcyNDAwIiwiNTEwMTUiLCIxODkzNDIzOSIsIjE4MzUyNTQ0IiwiMTg4NjIzOTEiLCI1NzIzNyIsIjE4OTM1NDk5IiwiMTg3OTc1OTEiXSwidCI6IkRlbGl2ZXJ5IFJlc3RhdXJhbnRzIGluIEhTUiJ9fQ==\",\n          \"https://www.zomato.com/bangalore/kabab-magic-hsr?context=eyJzZSI6eyJlIjpbIjE4NzYwOTU0IiwiMTgwNDgyNjciLCIxODczNTIzNCIsIjE4NzE1NzAwIiw1NjAzOSwiMTg4ODUxNTAiLCIxODkzNDgzOCIsIjE4NzY2Mjk1IiwiMTgxNDA3OTUiLCI2MDk4MiIsIjE4NzI5Mzg1IiwiMTg4NTM2NjkiLCI1NDc4NiIsIjU1NzAxIiwiNTExNzYiLCI1MzkxMCIsIjE4OTI3NjMwIiwiMTg1ODg2MjUiLCI1Njk1MiIsIjU3OTQxIl0sInQiOiJEaW5lLU91dCBSZXN0YXVyYW50cyBpbiBIU1IifX0=\",\n          \"https://www.zomato.com/bangalore/foodiesthan-hsr?context=eyJzZSI6eyJlIjpbIjE4NDI2Mzc0IiwiMTg2MzExOTkiLCIxODY5NDIwMCIsIjU0Njc2IiwxODUxMjQ0MSwiMTgyOTAwNDYiLCIxODYzNzA4MCIsIjE4NDk0MDgzIiwiMTg0MDc5MjUiLCIxODU2OTc2OCIsIjE4NzI4Mjc2IiwiMTg5NTQzMjUiLCIxODYyODgzOCIsIjUzODc3IiwiMTg3MDM1ODciXSwidCI6IkNhZlx1MDBlOXMgYW5kIERlbGlzIGluIEhTUiJ9fQ==\"\n        ],\n        \"semantic_type\": \"\",\n        \"description\": \"\"\n      }\n    },\n    {\n      \"column\": \"name\",\n      \"properties\": {\n        \"dtype\": \"number\",\n        \"std\": 2113,\n        \"min\": 1,\n        \"max\": 7000,\n        \"num_unique_values\": 560,\n        \"samples\": [\n          1132,\n          3355,\n          800\n        ],\n        \"semantic_type\": \"\",\n        \"description\": \"\"\n      }\n    },\n    {\n      \"column\": \"online_order\",\n      \"properties\": {\n        \"dtype\": \"number\",\n        \"std\": 0,\n        \"min\": 0,\n        \"max\": 1,\n        \"num_unique_values\": 2,\n        \"samples\": [\n          0,\n          1\n        ],\n        \"semantic_type\": \"\",\n        \"description\": \"\"\n      }\n    },\n    {\n      \"column\": \"book_table\",\n      \"properties\": {\n        \"dtype\": \"number\",\n        \"std\": 0,\n        \"min\": 0,\n        \"max\": 1,\n        \"num_unique_values\": 2,\n        \"samples\": [\n          1,\n          0\n        ],\n        \"semantic_type\": \"\",\n        \"description\": \"\"\n      }\n    },\n    {\n      \"column\": \"rate\",\n      \"properties\": {\n        \"dtype\": \"number\",\n        \"std\": 0.38163143924047876,\n        \"min\": -2.4444613739978327,\n        \"max\": 1.0932751792760522,\n        \"num_unique_values\": 26,\n        \"samples\": [\n          0.7208818578788009,\n          0.4105540900477586\n        ],\n        \"semantic_type\": \"\",\n        \"description\": \"\"\n      }\n    },\n    {\n      \"column\": \"location\",\n      \"properties\": {\n        \"dtype\": \"number\",\n        \"std\": 0,\n        \"min\": 22,\n        \"max\": 22,\n        \"num_unique_values\": 1,\n        \"samples\": [\n          22\n        ],\n        \"semantic_type\": \"\",\n        \"description\": \"\"\n      }\n    },\n    {\n      \"column\": \"rest_type\",\n      \"properties\": {\n        \"dtype\": \"number\",\n        \"std\": 1.0509920987700658,\n        \"min\": -1.645631387242831,\n        \"max\": 1.7991956320326465,\n        \"num_unique_values\": 40,\n        \"samples\": [\n          0.07678212239490773\n        ],\n        \"semantic_type\": \"\",\n        \"description\": \"\"\n      }\n    },\n    {\n      \"column\": \"cuisines\",\n      \"properties\": {\n        \"dtype\": \"number\",\n        \"std\": 1.0515835407907825,\n        \"min\": -1.80806109183969,\n        \"max\": 1.8556122387239045,\n        \"num_unique_values\": 327,\n        \"samples\": [\n          -0.19270064209649146\n        ],\n        \"semantic_type\": \"\",\n        \"description\": \"\"\n      }\n    },\n    {\n      \"column\": \"cost(for 2)\",\n      \"properties\": {\n        \"dtype\": \"number\",\n        \"std\": 0.7852411869264544,\n        \"min\": -1.0377925116344229,\n        \"max\": 2.835999732364482,\n        \"num_unique_values\": 28,\n        \"samples\": [\n          -0.1263119836346803\n        ],\n        \"semantic_type\": \"\",\n        \"description\": \"\"\n      }\n    },\n    {\n      \"column\": \"dining_type\",\n      \"properties\": {\n        \"dtype\": \"number\",\n        \"std\": 1.0000077631012039,\n        \"min\": -2.2364266700795046,\n        \"max\": 3.013970415127771,\n        \"num_unique_values\": 7,\n        \"samples\": [\n          -0.48629430834374615\n        ],\n        \"semantic_type\": \"\",\n        \"description\": \"\"\n      }\n    },\n    {\n      \"column\": \"city\",\n      \"properties\": {\n        \"dtype\": \"number\",\n        \"std\": 5,\n        \"min\": 0,\n        \"max\": 28,\n        \"num_unique_values\": 15,\n        \"samples\": [\n          18\n        ],\n        \"semantic_type\": \"\",\n        \"description\": \"\"\n      }\n    },\n    {\n      \"column\": \"Sentiment_Score\",\n      \"properties\": {\n        \"dtype\": \"number\",\n        \"std\": 0.5273600956999548,\n        \"min\": -0.9846,\n        \"max\": 0.9972,\n        \"num_unique_values\": 2693,\n        \"samples\": [\n          -0.7271\n        ],\n        \"semantic_type\": \"\",\n        \"description\": \"\"\n      }\n    },\n    {\n      \"column\": \"Sentiment_Class\",\n      \"properties\": {\n        \"dtype\": \"number\",\n        \"std\": 1,\n        \"min\": 0,\n        \"max\": 4,\n        \"num_unique_values\": 5,\n        \"samples\": [\n          3\n        ],\n        \"semantic_type\": \"\",\n        \"description\": \"\"\n      }\n    },\n    {\n      \"column\": \"cleaned_reviews\",\n      \"properties\": {\n        \"dtype\": \"category\",\n        \"num_unique_values\": 7325,\n        \"samples\": [\n          \"food quality good delivery take long time make everything cold\"\n        ],\n        \"semantic_type\": \"\",\n        \"description\": \"\"\n      }\n    },\n    {\n      \"column\": \"word_embeddings_of_reviews\",\n      \"properties\": {\n        \"dtype\": \"object\",\n        \"semantic_type\": \"\",\n        \"description\": \"\"\n      }\n    }\n  ]\n}"
            }
          },
          "metadata": {},
          "execution_count": 1
        }
      ]
    },
    {
      "cell_type": "code",
      "source": [
        "data_btm.shape"
      ],
      "metadata": {
        "colab": {
          "base_uri": "https://localhost:8080/"
        },
        "id": "Wk-0sCOkhnWH",
        "outputId": "006a3c3b-2cd9-425f-89c5-b03623c87ad9"
      },
      "execution_count": null,
      "outputs": [
        {
          "output_type": "execute_result",
          "data": {
            "text/plain": [
              "(64408, 15)"
            ]
          },
          "metadata": {},
          "execution_count": 3
        }
      ]
    },
    {
      "cell_type": "markdown",
      "source": [
        "# SVM\n",
        "---\n",
        "(WITHOUT WORD EMBEDDINGS)\n",
        "\n"
      ],
      "metadata": {
        "id": "Rw3Aym37pJn3"
      }
    },
    {
      "cell_type": "code",
      "execution_count": 2,
      "metadata": {
        "id": "ScTpDQIvjX5M"
      },
      "outputs": [],
      "source": [
        "from sklearn.model_selection import train_test_split\n",
        "from sklearn.metrics import f1_score, recall_score\n",
        "from sklearn.svm import SVC\n",
        "data_btm['Sentiment_Class'] = data_btm['Sentiment_Class'].astype(int)\n",
        "\n",
        "x = data_btm[['online_order', 'book_table', 'rate', 'rest_type', 'cuisines', 'cost(for 2)', 'dining_type' ]]\n",
        "y = data_btm['Sentiment_Class']\n",
        "\n",
        "x_train, x_test, y_train, y_test = train_test_split(x, y, test_size=0.2, random_state=42)"
      ]
    },
    {
      "cell_type": "code",
      "source": [
        "x_train.shape"
      ],
      "metadata": {
        "id": "DjHpQWgzvKw2",
        "colab": {
          "base_uri": "https://localhost:8080/"
        },
        "outputId": "8a1107f4-3011-472d-db70-3a2f38071550"
      },
      "execution_count": null,
      "outputs": [
        {
          "output_type": "execute_result",
          "data": {
            "text/plain": [
              "(51526, 7)"
            ]
          },
          "metadata": {},
          "execution_count": 4
        }
      ]
    },
    {
      "cell_type": "code",
      "source": [
        "data_btm['Sentiment_Class'].value_counts()"
      ],
      "metadata": {
        "colab": {
          "base_uri": "https://localhost:8080/"
        },
        "id": "3QBmPYwgTXiF",
        "outputId": "2a72f60f-36ee-4f02-a25c-b0e04254b7f6"
      },
      "execution_count": null,
      "outputs": [
        {
          "output_type": "execute_result",
          "data": {
            "text/plain": [
              "4    31409\n",
              "3    15565\n",
              "2    10030\n",
              "1     6019\n",
              "0     1385\n",
              "Name: Sentiment_Class, dtype: int64"
            ]
          },
          "metadata": {},
          "execution_count": 9
        }
      ]
    },
    {
      "cell_type": "code",
      "source": [
        "svm_model = SVC(kernel='poly', C=1.0, decision_function_shape='ovr')\n",
        "params_grid = [{'kernel': ['rbf'], 'gamma': [1e-3, 1e-4],\n",
        "                     'C': [1, 10, 100, 1000]},\n",
        "                    {'kernel': ['linear'], 'C': [1, 10, 100, 1000]}]\n",
        "svm_model.fit(x_train, y_train)"
      ],
      "metadata": {
        "id": "0QFHUVZMHLIl",
        "colab": {
          "base_uri": "https://localhost:8080/",
          "height": 74
        },
        "outputId": "5e4e4bf8-c26c-453e-9158-958cb95bd4ec"
      },
      "execution_count": 3,
      "outputs": [
        {
          "output_type": "execute_result",
          "data": {
            "text/plain": [
              "SVC(kernel='poly')"
            ],
            "text/html": [
              "<style>#sk-container-id-1 {color: black;background-color: white;}#sk-container-id-1 pre{padding: 0;}#sk-container-id-1 div.sk-toggleable {background-color: white;}#sk-container-id-1 label.sk-toggleable__label {cursor: pointer;display: block;width: 100%;margin-bottom: 0;padding: 0.3em;box-sizing: border-box;text-align: center;}#sk-container-id-1 label.sk-toggleable__label-arrow:before {content: \"▸\";float: left;margin-right: 0.25em;color: #696969;}#sk-container-id-1 label.sk-toggleable__label-arrow:hover:before {color: black;}#sk-container-id-1 div.sk-estimator:hover label.sk-toggleable__label-arrow:before {color: black;}#sk-container-id-1 div.sk-toggleable__content {max-height: 0;max-width: 0;overflow: hidden;text-align: left;background-color: #f0f8ff;}#sk-container-id-1 div.sk-toggleable__content pre {margin: 0.2em;color: black;border-radius: 0.25em;background-color: #f0f8ff;}#sk-container-id-1 input.sk-toggleable__control:checked~div.sk-toggleable__content {max-height: 200px;max-width: 100%;overflow: auto;}#sk-container-id-1 input.sk-toggleable__control:checked~label.sk-toggleable__label-arrow:before {content: \"▾\";}#sk-container-id-1 div.sk-estimator input.sk-toggleable__control:checked~label.sk-toggleable__label {background-color: #d4ebff;}#sk-container-id-1 div.sk-label input.sk-toggleable__control:checked~label.sk-toggleable__label {background-color: #d4ebff;}#sk-container-id-1 input.sk-hidden--visually {border: 0;clip: rect(1px 1px 1px 1px);clip: rect(1px, 1px, 1px, 1px);height: 1px;margin: -1px;overflow: hidden;padding: 0;position: absolute;width: 1px;}#sk-container-id-1 div.sk-estimator {font-family: monospace;background-color: #f0f8ff;border: 1px dotted black;border-radius: 0.25em;box-sizing: border-box;margin-bottom: 0.5em;}#sk-container-id-1 div.sk-estimator:hover {background-color: #d4ebff;}#sk-container-id-1 div.sk-parallel-item::after {content: \"\";width: 100%;border-bottom: 1px solid gray;flex-grow: 1;}#sk-container-id-1 div.sk-label:hover label.sk-toggleable__label {background-color: #d4ebff;}#sk-container-id-1 div.sk-serial::before {content: \"\";position: absolute;border-left: 1px solid gray;box-sizing: border-box;top: 0;bottom: 0;left: 50%;z-index: 0;}#sk-container-id-1 div.sk-serial {display: flex;flex-direction: column;align-items: center;background-color: white;padding-right: 0.2em;padding-left: 0.2em;position: relative;}#sk-container-id-1 div.sk-item {position: relative;z-index: 1;}#sk-container-id-1 div.sk-parallel {display: flex;align-items: stretch;justify-content: center;background-color: white;position: relative;}#sk-container-id-1 div.sk-item::before, #sk-container-id-1 div.sk-parallel-item::before {content: \"\";position: absolute;border-left: 1px solid gray;box-sizing: border-box;top: 0;bottom: 0;left: 50%;z-index: -1;}#sk-container-id-1 div.sk-parallel-item {display: flex;flex-direction: column;z-index: 1;position: relative;background-color: white;}#sk-container-id-1 div.sk-parallel-item:first-child::after {align-self: flex-end;width: 50%;}#sk-container-id-1 div.sk-parallel-item:last-child::after {align-self: flex-start;width: 50%;}#sk-container-id-1 div.sk-parallel-item:only-child::after {width: 0;}#sk-container-id-1 div.sk-dashed-wrapped {border: 1px dashed gray;margin: 0 0.4em 0.5em 0.4em;box-sizing: border-box;padding-bottom: 0.4em;background-color: white;}#sk-container-id-1 div.sk-label label {font-family: monospace;font-weight: bold;display: inline-block;line-height: 1.2em;}#sk-container-id-1 div.sk-label-container {text-align: center;}#sk-container-id-1 div.sk-container {/* jupyter's `normalize.less` sets `[hidden] { display: none; }` but bootstrap.min.css set `[hidden] { display: none !important; }` so we also need the `!important` here to be able to override the default hidden behavior on the sphinx rendered scikit-learn.org. See: https://github.com/scikit-learn/scikit-learn/issues/21755 */display: inline-block !important;position: relative;}#sk-container-id-1 div.sk-text-repr-fallback {display: none;}</style><div id=\"sk-container-id-1\" class=\"sk-top-container\"><div class=\"sk-text-repr-fallback\"><pre>SVC(kernel=&#x27;poly&#x27;)</pre><b>In a Jupyter environment, please rerun this cell to show the HTML representation or trust the notebook. <br />On GitHub, the HTML representation is unable to render, please try loading this page with nbviewer.org.</b></div><div class=\"sk-container\" hidden><div class=\"sk-item\"><div class=\"sk-estimator sk-toggleable\"><input class=\"sk-toggleable__control sk-hidden--visually\" id=\"sk-estimator-id-1\" type=\"checkbox\" checked><label for=\"sk-estimator-id-1\" class=\"sk-toggleable__label sk-toggleable__label-arrow\">SVC</label><div class=\"sk-toggleable__content\"><pre>SVC(kernel=&#x27;poly&#x27;)</pre></div></div></div></div></div>"
            ]
          },
          "metadata": {},
          "execution_count": 3
        }
      ]
    },
    {
      "cell_type": "code",
      "source": [
        "from sklearn.metrics import accuracy_score, precision_score, recall_score, f1_score, confusion_matrix\n",
        "\n",
        "y_pred = svm_model.predict(x_test)\n",
        "accuracy = accuracy_score(y_test, y_pred)\n",
        "precision = precision_score(y_test, y_pred, average='weighted')\n",
        "recall = recall_score(y_test, y_pred, average='weighted')\n",
        "f1 = f1_score(y_test, y_pred, average='weighted')\n",
        "conf_matrix = confusion_matrix(y_test, y_pred)\n",
        "\n",
        "print(\"Accuracy:\", accuracy)\n",
        "print(\"Precision:\", precision)\n",
        "print(\"Recall:\", recall)\n",
        "print(\"F1-score:\", f1)\n",
        "print(\"Confusion Matrix:\\n\", conf_matrix)"
      ],
      "metadata": {
        "id": "dyUGNi9MiVU5",
        "colab": {
          "base_uri": "https://localhost:8080/"
        },
        "outputId": "2fff2d16-eb90-41db-94d9-332eb2abcd32"
      },
      "execution_count": null,
      "outputs": [
        {
          "output_type": "stream",
          "name": "stdout",
          "text": [
            "Accuracy: 0.5424623505666822\n",
            "Precision: 0.4549462623328751\n",
            "Recall: 0.5424623505666822\n",
            "F1-score: 0.4560381105809704\n",
            "Confusion Matrix:\n",
            " [[   0    1   69    9  196]\n",
            " [   0    6  415   90  656]\n",
            " [   0    8 1006  218  811]\n",
            " [   0   11  606  259 2198]\n",
            " [   0   11  438  157 5717]]\n"
          ]
        },
        {
          "output_type": "stream",
          "name": "stderr",
          "text": [
            "/usr/local/lib/python3.10/dist-packages/sklearn/metrics/_classification.py:1344: UndefinedMetricWarning: Precision is ill-defined and being set to 0.0 in labels with no predicted samples. Use `zero_division` parameter to control this behavior.\n",
            "  _warn_prf(average, modifier, msg_start, len(result))\n"
          ]
        }
      ]
    },
    {
      "cell_type": "markdown",
      "source": [
        "1. **Accuracy**: The model's predictions are correct for about 54.2% of the instances.\n",
        "\n",
        "2. **Precision**: The model predicts a positive instance, it is correct about 45.5% of the time.\n",
        "\n",
        "3. **Recall**: The model correctly identifies about 54.2% of the actual positive instances.\n",
        "\n",
        "4. **F1-score**: The F1-score is approximately 0.456, reflecting the balance between precision and recall in the model's predictions.\n",
        "\n",
        "5. **Confusion Matrix**:\n",
        "  - 0 instances were correctly classified as Class 1 (True Negatives).\n",
        "  - 1 instance was incorrectly classified as Class 2 (False Positives).\n",
        "  - 6 instances were correctly classified as Class 2 (True Positives).\n",
        "  - 1006 instances were correctly classified as Class 3 (True Positives).\n",
        "  - 259 instances were correctly classified as Class 4 (True Positives).\n",
        "  - 5717 instances were correctly classified as Class 5 (True Positives).\n",
        "  - rest were incorrectly classified\n",
        "\n",
        "{Class 1: very bad, Class 2: bad, Class 3: neutral, Class 4: good, Class 5: very good}\n",
        "\n",
        "\n"
      ],
      "metadata": {
        "id": "FBcMGJPAQOKM"
      }
    },
    {
      "cell_type": "code",
      "source": [
        "from sklearn.metrics import classification_report\n",
        "print(classification_report(y_test, y_pred))"
      ],
      "metadata": {
        "colab": {
          "base_uri": "https://localhost:8080/"
        },
        "id": "cojD-saAT7x3",
        "outputId": "7ee5e452-61c6-42ae-ece4-fbe11a37c494"
      },
      "execution_count": null,
      "outputs": [
        {
          "output_type": "stream",
          "name": "stdout",
          "text": [
            "              precision    recall  f1-score   support\n",
            "\n",
            "           0       0.00      0.00      0.00       275\n",
            "           1       0.16      0.01      0.01      1167\n",
            "           2       0.40      0.49      0.44      2043\n",
            "           3       0.35      0.08      0.14      3074\n",
            "           4       0.60      0.90      0.72      6323\n",
            "\n",
            "    accuracy                           0.54     12882\n",
            "   macro avg       0.30      0.30      0.26     12882\n",
            "weighted avg       0.45      0.54      0.46     12882\n",
            "\n"
          ]
        },
        {
          "output_type": "stream",
          "name": "stderr",
          "text": [
            "/usr/local/lib/python3.10/dist-packages/sklearn/metrics/_classification.py:1344: UndefinedMetricWarning: Precision and F-score are ill-defined and being set to 0.0 in labels with no predicted samples. Use `zero_division` parameter to control this behavior.\n",
            "  _warn_prf(average, modifier, msg_start, len(result))\n",
            "/usr/local/lib/python3.10/dist-packages/sklearn/metrics/_classification.py:1344: UndefinedMetricWarning: Precision and F-score are ill-defined and being set to 0.0 in labels with no predicted samples. Use `zero_division` parameter to control this behavior.\n",
            "  _warn_prf(average, modifier, msg_start, len(result))\n",
            "/usr/local/lib/python3.10/dist-packages/sklearn/metrics/_classification.py:1344: UndefinedMetricWarning: Precision and F-score are ill-defined and being set to 0.0 in labels with no predicted samples. Use `zero_division` parameter to control this behavior.\n",
            "  _warn_prf(average, modifier, msg_start, len(result))\n"
          ]
        }
      ]
    },
    {
      "cell_type": "code",
      "source": [
        "import pickle\n",
        "file_path = '/content/drive/MyDrive/Kaggle/svm_model_model.pkl'\n",
        "with open(file_path, 'wb') as file:\n",
        "    pickle.dump(svm_model, file)"
      ],
      "metadata": {
        "id": "Vlgf81yoD6U6"
      },
      "execution_count": null,
      "outputs": []
    },
    {
      "cell_type": "markdown",
      "source": [
        "# SVM\n",
        "---\n",
        "(WITH WORD EMBEDDINGS)\n"
      ],
      "metadata": {
        "id": "a0cei7cWTk1p"
      }
    },
    {
      "cell_type": "code",
      "source": [
        "import numpy as np\n",
        "def compute_awe(embeddings_sequences):\n",
        "    awe_list = [] #empty list to store average embeddings\n",
        "    # Iterate over each sequence of word embeddings\n",
        "    for sequence in embeddings_sequences:\n",
        "        # Compute the average embedding for the sequence\n",
        "        average_embedding = np.mean(sequence, axis=0)\n",
        "        awe_list.append(average_embedding)\n",
        "    return np.array(awe_list)"
      ],
      "metadata": {
        "id": "JSgrHgbv537Z"
      },
      "execution_count": 4,
      "outputs": []
    },
    {
      "cell_type": "code",
      "source": [
        "from sklearn.model_selection import train_test_split\n",
        "y = data_btm['Sentiment_Class']\n",
        "\n",
        "awe_features = compute_awe(data_btm['word_embeddings_of_reviews'])\n",
        "x_other_features = data_btm[['online_order', 'book_table', 'rate', 'rest_type', 'cuisines', 'cost(for 2)', 'dining_type']]\n",
        "x = np.concatenate([x_other_features, awe_features], axis=1)\n",
        "\n",
        "x_train, x_test, y_train, y_test = train_test_split(x, y, test_size=0.2, random_state=42)"
      ],
      "metadata": {
        "id": "05M1DRcq54lf"
      },
      "execution_count": 5,
      "outputs": []
    },
    {
      "cell_type": "code",
      "source": [
        "svm_model = SVC(kernel='poly', C=1.0, decision_function_shape='ovr')\n",
        "params_grid = [{'kernel': ['rbf'], 'gamma': [1e-3, 1e-4],\n",
        "                     'C': [1, 10, 100, 1000]},\n",
        "                    {'kernel': ['linear'], 'C': [1, 10, 100, 1000]}]\n",
        "svm_model.fit(x_train, y_train)"
      ],
      "metadata": {
        "colab": {
          "base_uri": "https://localhost:8080/",
          "height": 74
        },
        "id": "8kt1A8Lt3-RV",
        "outputId": "0013c29e-573a-4bb7-f016-43379ae3d4e8"
      },
      "execution_count": 6,
      "outputs": [
        {
          "output_type": "execute_result",
          "data": {
            "text/plain": [
              "SVC(kernel='poly')"
            ],
            "text/html": [
              "<style>#sk-container-id-2 {color: black;background-color: white;}#sk-container-id-2 pre{padding: 0;}#sk-container-id-2 div.sk-toggleable {background-color: white;}#sk-container-id-2 label.sk-toggleable__label {cursor: pointer;display: block;width: 100%;margin-bottom: 0;padding: 0.3em;box-sizing: border-box;text-align: center;}#sk-container-id-2 label.sk-toggleable__label-arrow:before {content: \"▸\";float: left;margin-right: 0.25em;color: #696969;}#sk-container-id-2 label.sk-toggleable__label-arrow:hover:before {color: black;}#sk-container-id-2 div.sk-estimator:hover label.sk-toggleable__label-arrow:before {color: black;}#sk-container-id-2 div.sk-toggleable__content {max-height: 0;max-width: 0;overflow: hidden;text-align: left;background-color: #f0f8ff;}#sk-container-id-2 div.sk-toggleable__content pre {margin: 0.2em;color: black;border-radius: 0.25em;background-color: #f0f8ff;}#sk-container-id-2 input.sk-toggleable__control:checked~div.sk-toggleable__content {max-height: 200px;max-width: 100%;overflow: auto;}#sk-container-id-2 input.sk-toggleable__control:checked~label.sk-toggleable__label-arrow:before {content: \"▾\";}#sk-container-id-2 div.sk-estimator input.sk-toggleable__control:checked~label.sk-toggleable__label {background-color: #d4ebff;}#sk-container-id-2 div.sk-label input.sk-toggleable__control:checked~label.sk-toggleable__label {background-color: #d4ebff;}#sk-container-id-2 input.sk-hidden--visually {border: 0;clip: rect(1px 1px 1px 1px);clip: rect(1px, 1px, 1px, 1px);height: 1px;margin: -1px;overflow: hidden;padding: 0;position: absolute;width: 1px;}#sk-container-id-2 div.sk-estimator {font-family: monospace;background-color: #f0f8ff;border: 1px dotted black;border-radius: 0.25em;box-sizing: border-box;margin-bottom: 0.5em;}#sk-container-id-2 div.sk-estimator:hover {background-color: #d4ebff;}#sk-container-id-2 div.sk-parallel-item::after {content: \"\";width: 100%;border-bottom: 1px solid gray;flex-grow: 1;}#sk-container-id-2 div.sk-label:hover label.sk-toggleable__label {background-color: #d4ebff;}#sk-container-id-2 div.sk-serial::before {content: \"\";position: absolute;border-left: 1px solid gray;box-sizing: border-box;top: 0;bottom: 0;left: 50%;z-index: 0;}#sk-container-id-2 div.sk-serial {display: flex;flex-direction: column;align-items: center;background-color: white;padding-right: 0.2em;padding-left: 0.2em;position: relative;}#sk-container-id-2 div.sk-item {position: relative;z-index: 1;}#sk-container-id-2 div.sk-parallel {display: flex;align-items: stretch;justify-content: center;background-color: white;position: relative;}#sk-container-id-2 div.sk-item::before, #sk-container-id-2 div.sk-parallel-item::before {content: \"\";position: absolute;border-left: 1px solid gray;box-sizing: border-box;top: 0;bottom: 0;left: 50%;z-index: -1;}#sk-container-id-2 div.sk-parallel-item {display: flex;flex-direction: column;z-index: 1;position: relative;background-color: white;}#sk-container-id-2 div.sk-parallel-item:first-child::after {align-self: flex-end;width: 50%;}#sk-container-id-2 div.sk-parallel-item:last-child::after {align-self: flex-start;width: 50%;}#sk-container-id-2 div.sk-parallel-item:only-child::after {width: 0;}#sk-container-id-2 div.sk-dashed-wrapped {border: 1px dashed gray;margin: 0 0.4em 0.5em 0.4em;box-sizing: border-box;padding-bottom: 0.4em;background-color: white;}#sk-container-id-2 div.sk-label label {font-family: monospace;font-weight: bold;display: inline-block;line-height: 1.2em;}#sk-container-id-2 div.sk-label-container {text-align: center;}#sk-container-id-2 div.sk-container {/* jupyter's `normalize.less` sets `[hidden] { display: none; }` but bootstrap.min.css set `[hidden] { display: none !important; }` so we also need the `!important` here to be able to override the default hidden behavior on the sphinx rendered scikit-learn.org. See: https://github.com/scikit-learn/scikit-learn/issues/21755 */display: inline-block !important;position: relative;}#sk-container-id-2 div.sk-text-repr-fallback {display: none;}</style><div id=\"sk-container-id-2\" class=\"sk-top-container\"><div class=\"sk-text-repr-fallback\"><pre>SVC(kernel=&#x27;poly&#x27;)</pre><b>In a Jupyter environment, please rerun this cell to show the HTML representation or trust the notebook. <br />On GitHub, the HTML representation is unable to render, please try loading this page with nbviewer.org.</b></div><div class=\"sk-container\" hidden><div class=\"sk-item\"><div class=\"sk-estimator sk-toggleable\"><input class=\"sk-toggleable__control sk-hidden--visually\" id=\"sk-estimator-id-2\" type=\"checkbox\" checked><label for=\"sk-estimator-id-2\" class=\"sk-toggleable__label sk-toggleable__label-arrow\">SVC</label><div class=\"sk-toggleable__content\"><pre>SVC(kernel=&#x27;poly&#x27;)</pre></div></div></div></div></div>"
            ]
          },
          "metadata": {},
          "execution_count": 6
        }
      ]
    },
    {
      "cell_type": "code",
      "source": [
        "from sklearn.metrics import accuracy_score, precision_score, recall_score, f1_score, confusion_matrix\n",
        "\n",
        "y_pred = svm_model.predict(x_test)\n",
        "accuracy = accuracy_score(y_test, y_pred)\n",
        "precision = precision_score(y_test, y_pred, average='weighted')\n",
        "recall = recall_score(y_test, y_pred, average='weighted')\n",
        "f1 = f1_score(y_test, y_pred, average='weighted')\n",
        "conf_matrix = confusion_matrix(y_test, y_pred)\n",
        "\n",
        "print(\"Accuracy:\", accuracy)\n",
        "print(\"Precision:\", precision)\n",
        "print(\"Recall:\", recall)\n",
        "print(\"F1-score:\", f1)\n",
        "print(\"Confusion Matrix:\\n\", conf_matrix)"
      ],
      "metadata": {
        "colab": {
          "base_uri": "https://localhost:8080/"
        },
        "id": "4X7sn-on4ASF",
        "outputId": "8aee5c65-52d0-4fa8-f38c-9527b11e617b"
      },
      "execution_count": null,
      "outputs": [
        {
          "output_type": "stream",
          "name": "stdout",
          "text": [
            "Accuracy: 0.8539823008849557\n",
            "Precision: 0.8593077130512863\n",
            "Recall: 0.8539823008849557\n",
            "F1-score: 0.8499338421174509\n",
            "Confusion Matrix:\n",
            " [[ 174   47    3   23   28]\n",
            " [   8  924   18  100  117]\n",
            " [  14   45 1653  110  221]\n",
            " [   4   45   13 2096  916]\n",
            " [   0    4    2  163 6154]]\n"
          ]
        }
      ]
    },
    {
      "cell_type": "code",
      "source": [
        "from sklearn.metrics import classification_report\n",
        "print(classification_report(y_test, y_pred))"
      ],
      "metadata": {
        "colab": {
          "base_uri": "https://localhost:8080/"
        },
        "id": "imScgStO6Mvx",
        "outputId": "604cfbf1-38d1-4144-8f4e-7a91e2cbf349"
      },
      "execution_count": null,
      "outputs": [
        {
          "output_type": "stream",
          "name": "stdout",
          "text": [
            "              precision    recall  f1-score   support\n",
            "\n",
            "           0       0.87      0.63      0.73       275\n",
            "           1       0.87      0.79      0.83      1167\n",
            "           2       0.98      0.81      0.89      2043\n",
            "           3       0.84      0.68      0.75      3074\n",
            "           4       0.83      0.97      0.89      6323\n",
            "\n",
            "    accuracy                           0.85     12882\n",
            "   macro avg       0.88      0.78      0.82     12882\n",
            "weighted avg       0.86      0.85      0.85     12882\n",
            "\n"
          ]
        }
      ]
    },
    {
      "cell_type": "code",
      "source": [
        "import pickle\n",
        "file_path = '/content/drive/MyDrive/Kaggle/svm_model_with_word_embeddings.pkl'\n",
        "with open(file_path, 'wb') as file:\n",
        "    pickle.dump(svm_model, file)"
      ],
      "metadata": {
        "id": "IPGthuj85tlw"
      },
      "execution_count": null,
      "outputs": []
    },
    {
      "cell_type": "markdown",
      "source": [
        "# NEURAL NETWORKS\n",
        "---\n",
        "RNN, LSTM models\n"
      ],
      "metadata": {
        "id": "TdNvo9g1elc4"
      }
    },
    {
      "cell_type": "code",
      "source": [
        "numeric_columns = data_btm.select_dtypes(include=['float64', 'int64']).columns\n",
        "data_btm[numeric_columns] = data_btm[numeric_columns].astype('float32')"
      ],
      "metadata": {
        "id": "8EWJXwo6nEbG"
      },
      "execution_count": 7,
      "outputs": []
    },
    {
      "cell_type": "code",
      "source": [
        "data_btm.dtypes"
      ],
      "metadata": {
        "colab": {
          "base_uri": "https://localhost:8080/"
        },
        "id": "qmkzLztqmyIG",
        "outputId": "356093bf-d45c-4395-de66-f34bf169251c"
      },
      "execution_count": null,
      "outputs": [
        {
          "output_type": "execute_result",
          "data": {
            "text/plain": [
              "url                            object\n",
              "name                          float32\n",
              "online_order                  float32\n",
              "book_table                    float32\n",
              "rate                          float32\n",
              "location                      float32\n",
              "rest_type                     float32\n",
              "cuisines                      float32\n",
              "cost(for 2)                   float32\n",
              "dining_type                   float32\n",
              "city                          float32\n",
              "Sentiment_Score               float32\n",
              "Sentiment_Class               float32\n",
              "cleaned_reviews                object\n",
              "word_embeddings_of_reviews     object\n",
              "dtype: object"
            ]
          },
          "metadata": {},
          "execution_count": 3
        }
      ]
    },
    {
      "cell_type": "code",
      "source": [
        "import pickle\n",
        "with open('/content/drive/MyDrive/Kaggle/word2vec_model.pkl', 'rb') as f:\n",
        "    word2vec_model = pickle.load(f)"
      ],
      "metadata": {
        "id": "DjwvB9yvInXe"
      },
      "execution_count": 9,
      "outputs": []
    },
    {
      "cell_type": "code",
      "source": [
        "vocab_size = len(word2vec_model.wv.key_to_index)\n",
        "print(\"Vocabulary Size:\", vocab_size)"
      ],
      "metadata": {
        "colab": {
          "base_uri": "https://localhost:8080/"
        },
        "id": "1YWIptwOImOX",
        "outputId": "f7476b44-bea9-4f4c-8a55-d02f5f8f4208"
      },
      "execution_count": 10,
      "outputs": [
        {
          "output_type": "stream",
          "name": "stdout",
          "text": [
            "Vocabulary Size: 56803\n"
          ]
        }
      ]
    },
    {
      "cell_type": "code",
      "source": [
        "import numpy as np\n",
        "def compute_awe(embeddings_sequences):\n",
        "    awe_list = []\n",
        "    for sequence in embeddings_sequences:\n",
        "        average_embedding = np.mean(sequence, axis=0)\n",
        "        awe_list.append(average_embedding)\n",
        "    return np.array(awe_list)"
      ],
      "metadata": {
        "id": "hQaaGW0DQkqK"
      },
      "execution_count": 11,
      "outputs": []
    },
    {
      "cell_type": "code",
      "source": [
        "import tensorflow as tf\n",
        "from tensorflow import keras\n",
        "from tensorflow.keras import layers\n",
        "from sklearn.model_selection import train_test_split\n",
        "y = data_btm['Sentiment_Class']\n",
        "awe_features = compute_awe(data_btm['word_embeddings_of_reviews'])\n",
        "x_other_features = data_btm[['online_order', 'book_table', 'rate', 'rest_type', 'cuisines', 'cost(for 2)', 'dining_type']]\n",
        "x = np.concatenate([x_other_features, awe_features], axis=1)\n",
        "x_train, x_test, y_train, y_test = train_test_split(x, y, test_size=0.2, random_state=42)"
      ],
      "metadata": {
        "id": "15InLju8KlqS"
      },
      "execution_count": 12,
      "outputs": []
    },
    {
      "cell_type": "code",
      "source": [
        "print(x_train.shape, y_train.shape)"
      ],
      "metadata": {
        "colab": {
          "base_uri": "https://localhost:8080/"
        },
        "id": "VoxHH-JCWxi0",
        "outputId": "1b60b585-2b2a-41a1-fc3c-dc3c764a9271"
      },
      "execution_count": null,
      "outputs": [
        {
          "output_type": "stream",
          "name": "stdout",
          "text": [
            "(51526, 39) (51526,)\n"
          ]
        }
      ]
    },
    {
      "cell_type": "markdown",
      "source": [
        "## Simple RNN\n",
        "---"
      ],
      "metadata": {
        "id": "JVb1V-a47HI9"
      }
    },
    {
      "cell_type": "code",
      "source": [
        "from tensorflow.keras import layers, Sequential\n",
        "\n",
        "model = Sequential([\n",
        "    layers.Embedding(vocab_size, 128),  # Embedding layer for word embeddings\n",
        "    layers.SimpleRNN(128),  # Simple RNN layer\n",
        "    layers.Dense(64, activation='relu'),  # Dense layer with ReLU activation\n",
        "    layers.Dense(5, activation='softmax')  # Output layer with softmax activation\n",
        "])\n",
        "\n",
        "model.compile(optimizer='adam', loss='categorical_crossentropy', metrics=['accuracy'])\n",
        "y_train_categorical = tf.keras.utils.to_categorical(y_train, num_classes=5)\n",
        "y_test_categorical = tf.keras.utils.to_categorical(y_test, num_classes=5)\n",
        "model.fit(x_train, y_train_categorical, epochs=10, batch_size=32)\n",
        "loss, accuracy = model.evaluate(x_test, y_test_categorical)\n",
        "\n",
        "print(\"Loss:\", loss)\n",
        "print(\"Accuracy:\", accuracy)"
      ],
      "metadata": {
        "colab": {
          "base_uri": "https://localhost:8080/"
        },
        "id": "Ho7G3Bwo7JY8",
        "outputId": "0b287ac5-7c10-4c61-f116-410743b6144d"
      },
      "execution_count": 13,
      "outputs": [
        {
          "output_type": "stream",
          "name": "stdout",
          "text": [
            "Epoch 1/10\n",
            "1611/1611 [==============================] - 72s 43ms/step - loss: 0.8685 - accuracy: 0.6534\n",
            "Epoch 2/10\n",
            "1611/1611 [==============================] - 64s 40ms/step - loss: 0.6426 - accuracy: 0.7578\n",
            "Epoch 3/10\n",
            "1611/1611 [==============================] - 63s 39ms/step - loss: 0.5124 - accuracy: 0.8151\n",
            "Epoch 4/10\n",
            "1611/1611 [==============================] - 63s 39ms/step - loss: 0.4472 - accuracy: 0.8409\n",
            "Epoch 5/10\n",
            "1611/1611 [==============================] - 64s 39ms/step - loss: 0.4072 - accuracy: 0.8555\n",
            "Epoch 6/10\n",
            "1611/1611 [==============================] - 64s 39ms/step - loss: 0.3937 - accuracy: 0.8630\n",
            "Epoch 7/10\n",
            "1611/1611 [==============================] - 63s 39ms/step - loss: 0.3691 - accuracy: 0.8722\n",
            "Epoch 8/10\n",
            "1611/1611 [==============================] - 62s 38ms/step - loss: 0.3635 - accuracy: 0.8723\n",
            "Epoch 9/10\n",
            "1611/1611 [==============================] - 64s 40ms/step - loss: 0.3508 - accuracy: 0.8784\n",
            "Epoch 10/10\n",
            "1611/1611 [==============================] - 65s 41ms/step - loss: 0.3422 - accuracy: 0.8811\n",
            "403/403 [==============================] - 2s 5ms/step - loss: 0.3762 - accuracy: 0.8714\n",
            "Loss: 0.3761921226978302\n",
            "Accuracy: 0.8713709115982056\n"
          ]
        }
      ]
    },
    {
      "cell_type": "code",
      "source": [
        "from sklearn.metrics import classification_report\n",
        "y_pred_prob = model.predict(x_test)\n",
        "y_pred = np.argmax(y_pred_prob, axis=1)\n",
        "print(classification_report(y_test, y_pred))"
      ],
      "metadata": {
        "colab": {
          "base_uri": "https://localhost:8080/"
        },
        "id": "rQdkv7Gl7QjQ",
        "outputId": "e01a485a-24fb-4e6a-f3bb-66bd764fd749"
      },
      "execution_count": null,
      "outputs": [
        {
          "output_type": "stream",
          "name": "stdout",
          "text": [
            "403/403 [==============================] - 2s 5ms/step\n",
            "              precision    recall  f1-score   support\n",
            "\n",
            "           0       0.82      0.69      0.75       275\n",
            "           1       0.83      0.83      0.83      1167\n",
            "           2       0.95      0.85      0.90      2043\n",
            "           3       0.83      0.81      0.82      3074\n",
            "           4       0.91      0.95      0.93      6323\n",
            "\n",
            "    accuracy                           0.88     12882\n",
            "   macro avg       0.87      0.83      0.84     12882\n",
            "weighted avg       0.88      0.88      0.88     12882\n",
            "\n"
          ]
        }
      ]
    },
    {
      "cell_type": "code",
      "source": [
        "import pickle\n",
        "file_path = '/content/drive/MyDrive/Kaggle/simpleRNN_model.pkl'\n",
        "with open(file_path, 'wb') as file:\n",
        "    pickle.dump(model, file)"
      ],
      "metadata": {
        "id": "dHK6Nwcg9TiK"
      },
      "execution_count": null,
      "outputs": []
    },
    {
      "cell_type": "code",
      "source": [
        "# changing the epochs to see how the model behaves (epoch = 7)\n",
        "model = Sequential([\n",
        "    layers.Embedding(vocab_size, 128),  # Embedding layer for word embeddings\n",
        "    layers.SimpleRNN(128),  # Simple RNN layer\n",
        "    layers.Dense(64, activation='relu'),  # Dense layer with ReLU activation\n",
        "    layers.Dense(5, activation='softmax')  # Output layer with softmax activation\n",
        "])\n",
        "\n",
        "model.compile(optimizer='adam', loss='categorical_crossentropy', metrics=['accuracy'])\n",
        "y_train_categorical = tf.keras.utils.to_categorical(y_train, num_classes=5)\n",
        "y_test_categorical = tf.keras.utils.to_categorical(y_test, num_classes=5)\n",
        "model.fit(x_train, y_train_categorical, epochs=7, batch_size=32)\n",
        "loss, accuracy = model.evaluate(x_test, y_test_categorical)\n",
        "\n",
        "print(\"Loss:\", loss)\n",
        "print(\"Accuracy:\", accuracy)"
      ],
      "metadata": {
        "colab": {
          "base_uri": "https://localhost:8080/"
        },
        "id": "Dan_ElO7oDcH",
        "outputId": "1d6eb073-342f-473d-bbc2-2824e551fa5a"
      },
      "execution_count": 15,
      "outputs": [
        {
          "output_type": "stream",
          "name": "stdout",
          "text": [
            "Epoch 1/7\n",
            "1611/1611 [==============================] - 83s 50ms/step - loss: 0.8543 - accuracy: 0.6567\n",
            "Epoch 2/7\n",
            "1611/1611 [==============================] - 66s 41ms/step - loss: 0.6305 - accuracy: 0.7601\n",
            "Epoch 3/7\n",
            "1611/1611 [==============================] - 64s 40ms/step - loss: 0.5095 - accuracy: 0.8154\n",
            "Epoch 4/7\n",
            "1611/1611 [==============================] - 63s 39ms/step - loss: 0.4416 - accuracy: 0.8448\n",
            "Epoch 5/7\n",
            "1611/1611 [==============================] - 64s 40ms/step - loss: 0.4098 - accuracy: 0.8556\n",
            "Epoch 6/7\n",
            "1611/1611 [==============================] - 78s 48ms/step - loss: 0.3897 - accuracy: 0.8646\n",
            "Epoch 7/7\n",
            "1611/1611 [==============================] - 83s 52ms/step - loss: 0.3689 - accuracy: 0.8707\n",
            "403/403 [==============================] - 2s 5ms/step - loss: 0.3780 - accuracy: 0.8699\n",
            "Loss: 0.37803369760513306\n",
            "Accuracy: 0.8698959946632385\n"
          ]
        }
      ]
    },
    {
      "cell_type": "code",
      "source": [
        "from sklearn.metrics import classification_report\n",
        "y_pred_prob = model.predict(x_test)\n",
        "y_pred = np.argmax(y_pred_prob, axis=1)\n",
        "print(classification_report(y_test, y_pred))"
      ],
      "metadata": {
        "colab": {
          "base_uri": "https://localhost:8080/"
        },
        "id": "uYC-85-moNxI",
        "outputId": "96a99eb8-1dc0-44fd-da9f-0ffbb0dbf757"
      },
      "execution_count": 16,
      "outputs": [
        {
          "output_type": "stream",
          "name": "stdout",
          "text": [
            "403/403 [==============================] - 2s 5ms/step\n",
            "              precision    recall  f1-score   support\n",
            "\n",
            "         0.0       0.86      0.59      0.70       275\n",
            "         1.0       0.78      0.80      0.79      1167\n",
            "         2.0       0.91      0.84      0.87      2043\n",
            "         3.0       0.80      0.80      0.80      3074\n",
            "         4.0       0.91      0.94      0.92      6323\n",
            "\n",
            "    accuracy                           0.87     12882\n",
            "   macro avg       0.85      0.79      0.82     12882\n",
            "weighted avg       0.87      0.87      0.87     12882\n",
            "\n"
          ]
        }
      ]
    },
    {
      "cell_type": "code",
      "source": [
        "import pickle\n",
        "file_path = '/content/drive/MyDrive/Kaggle/simpleRNN_model(epoch = 7).pkl'\n",
        "with open(file_path, 'wb') as file:\n",
        "    pickle.dump(model, file)"
      ],
      "metadata": {
        "id": "_W12h9UKoaB4"
      },
      "execution_count": 17,
      "outputs": []
    },
    {
      "cell_type": "code",
      "source": [
        "# increasing the value to 15 now (epoch = 15)\n",
        "model = Sequential([\n",
        "    layers.Embedding(vocab_size, 128),  # Embedding layer for word embeddings\n",
        "    layers.SimpleRNN(128),  # Simple RNN layer\n",
        "    layers.Dense(64, activation='relu'),  # Dense layer with ReLU activation\n",
        "    layers.Dense(5, activation='softmax')  # Output layer with softmax activation\n",
        "])\n",
        "\n",
        "model.compile(optimizer='adam', loss='categorical_crossentropy', metrics=['accuracy'])\n",
        "y_train_categorical = tf.keras.utils.to_categorical(y_train, num_classes=5)\n",
        "y_test_categorical = tf.keras.utils.to_categorical(y_test, num_classes=5)\n",
        "model.fit(x_train, y_train_categorical, epochs=15, batch_size=32)\n",
        "loss, accuracy = model.evaluate(x_test, y_test_categorical)\n",
        "\n",
        "print(\"Loss:\", loss)\n",
        "print(\"Accuracy:\", accuracy)"
      ],
      "metadata": {
        "colab": {
          "base_uri": "https://localhost:8080/"
        },
        "id": "pwDeks7hqKB_",
        "outputId": "8f2511fa-4184-46bc-e9d0-8c1097270465"
      },
      "execution_count": 18,
      "outputs": [
        {
          "output_type": "stream",
          "name": "stdout",
          "text": [
            "Epoch 1/15\n",
            "1611/1611 [==============================] - 77s 45ms/step - loss: 0.8519 - accuracy: 0.6566\n",
            "Epoch 2/15\n",
            "1611/1611 [==============================] - 65s 40ms/step - loss: 0.6443 - accuracy: 0.7564\n",
            "Epoch 3/15\n",
            "1611/1611 [==============================] - 65s 40ms/step - loss: 0.5183 - accuracy: 0.8097\n",
            "Epoch 4/15\n",
            "1611/1611 [==============================] - 64s 40ms/step - loss: 0.4675 - accuracy: 0.8315\n",
            "Epoch 5/15\n",
            "1611/1611 [==============================] - 61s 38ms/step - loss: 0.4232 - accuracy: 0.8508\n",
            "Epoch 6/15\n",
            "1611/1611 [==============================] - 63s 39ms/step - loss: 0.3957 - accuracy: 0.8617\n",
            "Epoch 7/15\n",
            "1611/1611 [==============================] - 63s 39ms/step - loss: 0.3810 - accuracy: 0.8678\n",
            "Epoch 8/15\n",
            "1611/1611 [==============================] - 62s 38ms/step - loss: 0.3714 - accuracy: 0.8699\n",
            "Epoch 9/15\n",
            "1611/1611 [==============================] - 63s 39ms/step - loss: 0.3654 - accuracy: 0.8717\n",
            "Epoch 10/15\n",
            "1611/1611 [==============================] - 64s 40ms/step - loss: 0.3647 - accuracy: 0.8730\n",
            "Epoch 11/15\n",
            "1611/1611 [==============================] - 62s 38ms/step - loss: 0.3456 - accuracy: 0.8800\n",
            "Epoch 12/15\n",
            "1611/1611 [==============================] - 64s 40ms/step - loss: 0.3501 - accuracy: 0.8786\n",
            "Epoch 13/15\n",
            "1611/1611 [==============================] - 67s 42ms/step - loss: 0.3634 - accuracy: 0.8734\n",
            "Epoch 14/15\n",
            "1611/1611 [==============================] - 65s 40ms/step - loss: 0.3358 - accuracy: 0.8826\n",
            "Epoch 15/15\n",
            "1611/1611 [==============================] - 64s 40ms/step - loss: 0.3542 - accuracy: 0.8766\n",
            "403/403 [==============================] - 2s 5ms/step - loss: 0.3796 - accuracy: 0.8705\n",
            "Loss: 0.37959372997283936\n",
            "Accuracy: 0.8705170154571533\n"
          ]
        }
      ]
    },
    {
      "cell_type": "code",
      "source": [
        "from sklearn.metrics import classification_report\n",
        "y_pred_prob = model.predict(x_test)\n",
        "y_pred = np.argmax(y_pred_prob, axis=1)\n",
        "print(classification_report(y_test, y_pred))"
      ],
      "metadata": {
        "colab": {
          "base_uri": "https://localhost:8080/"
        },
        "id": "QZ7YPEx4qOVS",
        "outputId": "6de2e95b-9b49-4b8b-a7a3-455eb8dffb40"
      },
      "execution_count": 19,
      "outputs": [
        {
          "output_type": "stream",
          "name": "stdout",
          "text": [
            "403/403 [==============================] - 2s 4ms/step\n",
            "              precision    recall  f1-score   support\n",
            "\n",
            "         0.0       0.71      0.73      0.72       275\n",
            "         1.0       0.79      0.82      0.80      1167\n",
            "         2.0       0.88      0.88      0.88      2043\n",
            "         3.0       0.83      0.79      0.81      3074\n",
            "         4.0       0.91      0.92      0.91      6323\n",
            "\n",
            "    accuracy                           0.87     12882\n",
            "   macro avg       0.82      0.83      0.83     12882\n",
            "weighted avg       0.87      0.87      0.87     12882\n",
            "\n"
          ]
        }
      ]
    },
    {
      "cell_type": "code",
      "source": [
        "import pickle\n",
        "file_path = '/content/drive/MyDrive/Kaggle/simpleRNN_model(epoch = 15).pkl'\n",
        "with open(file_path, 'wb') as file:\n",
        "    pickle.dump(model, file)"
      ],
      "metadata": {
        "id": "7whEARDOrJAK"
      },
      "execution_count": 20,
      "outputs": []
    },
    {
      "cell_type": "markdown",
      "source": [
        "## LSTM\n",
        "---"
      ],
      "metadata": {
        "id": "_nsj-Jvv6ito"
      }
    },
    {
      "cell_type": "code",
      "source": [
        "model = keras.Sequential([\n",
        "    layers.Embedding(vocab_size, 128),\n",
        "    layers.LSTM(128),  # LSTM layer\n",
        "    layers.Dense(64, activation='relu'),\n",
        "    layers.Dense(5, activation='softmax')\n",
        "])\n",
        "\n",
        "model.compile(optimizer='adam', loss='categorical_crossentropy', metrics=['accuracy'])\n",
        "y_train_categorical = tf.keras.utils.to_categorical(y_train, num_classes=5)\n",
        "y_test_categorical = tf.keras.utils.to_categorical(y_test, num_classes=5)\n",
        "model.fit(x_train, y_train_categorical, epochs=10, batch_size=32)\n",
        "loss, accuracy = model.evaluate(x_test, y_test_categorical)\n",
        "\n",
        "print(\"Loss:\", loss)\n",
        "print(\"Accuracy:\", accuracy)"
      ],
      "metadata": {
        "colab": {
          "base_uri": "https://localhost:8080/"
        },
        "id": "JXEbH13EWpvX",
        "outputId": "dcd4c4be-8c53-4bc2-9af5-0c59522df98d"
      },
      "execution_count": 24,
      "outputs": [
        {
          "output_type": "stream",
          "name": "stdout",
          "text": [
            "Epoch 1/10\n",
            "1611/1611 [==============================] - 19s 11ms/step - loss: 1.0210 - accuracy: 0.5959\n",
            "Epoch 2/10\n",
            "1611/1611 [==============================] - 11s 7ms/step - loss: 0.8429 - accuracy: 0.6668\n",
            "Epoch 3/10\n",
            "1611/1611 [==============================] - 12s 7ms/step - loss: 0.6595 - accuracy: 0.7532\n",
            "Epoch 4/10\n",
            "1611/1611 [==============================] - 12s 7ms/step - loss: 0.4745 - accuracy: 0.8339\n",
            "Epoch 5/10\n",
            "1611/1611 [==============================] - 12s 7ms/step - loss: 0.3397 - accuracy: 0.8891\n",
            "Epoch 6/10\n",
            "1611/1611 [==============================] - 12s 7ms/step - loss: 0.2493 - accuracy: 0.9206\n",
            "Epoch 7/10\n",
            "1611/1611 [==============================] - 12s 7ms/step - loss: 0.1856 - accuracy: 0.9424\n",
            "Epoch 8/10\n",
            "1611/1611 [==============================] - 11s 7ms/step - loss: 0.1569 - accuracy: 0.9512\n",
            "Epoch 9/10\n",
            "1611/1611 [==============================] - 11s 7ms/step - loss: 0.1270 - accuracy: 0.9606\n",
            "Epoch 10/10\n",
            "1611/1611 [==============================] - 12s 7ms/step - loss: 0.1076 - accuracy: 0.9663\n",
            "403/403 [==============================] - 2s 4ms/step - loss: 0.1698 - accuracy: 0.9542\n",
            "Loss: 0.1697649508714676\n",
            "Accuracy: 0.9541996717453003\n"
          ]
        }
      ]
    },
    {
      "cell_type": "code",
      "source": [
        "from sklearn.metrics import classification_report\n",
        "y_pred_prob = model.predict(x_test)\n",
        "y_pred = np.argmax(y_pred_prob, axis=1)\n",
        "print(classification_report(y_test, y_pred))"
      ],
      "metadata": {
        "colab": {
          "base_uri": "https://localhost:8080/"
        },
        "id": "AuFx2wWja80_",
        "outputId": "e714ca6c-b4af-48e9-879e-378c0ec04c50"
      },
      "execution_count": 25,
      "outputs": [
        {
          "output_type": "stream",
          "name": "stdout",
          "text": [
            "403/403 [==============================] - 1s 2ms/step\n",
            "              precision    recall  f1-score   support\n",
            "\n",
            "         0.0       0.89      0.92      0.90       275\n",
            "         1.0       0.96      0.92      0.94      1167\n",
            "         2.0       0.94      0.95      0.95      2043\n",
            "         3.0       0.95      0.91      0.93      3074\n",
            "         4.0       0.96      0.98      0.97      6323\n",
            "\n",
            "    accuracy                           0.95     12882\n",
            "   macro avg       0.94      0.94      0.94     12882\n",
            "weighted avg       0.95      0.95      0.95     12882\n",
            "\n"
          ]
        }
      ]
    },
    {
      "cell_type": "code",
      "source": [
        "import pickle\n",
        "file_path = '/content/drive/MyDrive/Kaggle/lstm_model.pkl'\n",
        "with open(file_path, 'wb') as file:\n",
        "    pickle.dump(model, file)"
      ],
      "metadata": {
        "id": "BmOoPA0uXMWA"
      },
      "execution_count": 26,
      "outputs": []
    },
    {
      "cell_type": "code",
      "source": [
        "# updating value of epoch to 7\n",
        "model = keras.Sequential([\n",
        "    layers.Embedding(vocab_size, 128),\n",
        "    layers.LSTM(128),  # LSTM layer\n",
        "    layers.Dense(64, activation='relu'),\n",
        "    layers.Dense(5, activation='softmax')\n",
        "])\n",
        "\n",
        "model.compile(optimizer='adam', loss='categorical_crossentropy', metrics=['accuracy'])\n",
        "y_train_categorical = tf.keras.utils.to_categorical(y_train, num_classes=5)\n",
        "y_test_categorical = tf.keras.utils.to_categorical(y_test, num_classes=5)\n",
        "model.fit(x_train, y_train_categorical, epochs=7, batch_size=32)\n",
        "loss, accuracy = model.evaluate(x_test, y_test_categorical)\n",
        "\n",
        "print(\"Loss:\", loss)\n",
        "print(\"Accuracy:\", accuracy)"
      ],
      "metadata": {
        "colab": {
          "base_uri": "https://localhost:8080/"
        },
        "id": "n55u9S4dvJJq",
        "outputId": "0e40461a-dfc9-46d6-e3a6-b9c55306965a"
      },
      "execution_count": 27,
      "outputs": [
        {
          "output_type": "stream",
          "name": "stdout",
          "text": [
            "Epoch 1/7\n",
            "1611/1611 [==============================] - 16s 8ms/step - loss: 1.0311 - accuracy: 0.5933\n",
            "Epoch 2/7\n",
            "1611/1611 [==============================] - 11s 7ms/step - loss: 0.8332 - accuracy: 0.6700\n",
            "Epoch 3/7\n",
            "1611/1611 [==============================] - 12s 7ms/step - loss: 0.6529 - accuracy: 0.7556\n",
            "Epoch 4/7\n",
            "1611/1611 [==============================] - 12s 7ms/step - loss: 0.4835 - accuracy: 0.8303\n",
            "Epoch 5/7\n",
            "1611/1611 [==============================] - 12s 7ms/step - loss: 0.3599 - accuracy: 0.8798\n",
            "Epoch 6/7\n",
            "1611/1611 [==============================] - 12s 7ms/step - loss: 0.2772 - accuracy: 0.9113\n",
            "Epoch 7/7\n",
            "1611/1611 [==============================] - 12s 7ms/step - loss: 0.2169 - accuracy: 0.9305\n",
            "403/403 [==============================] - 2s 3ms/step - loss: 0.2549 - accuracy: 0.9210\n",
            "Loss: 0.25489184260368347\n",
            "Accuracy: 0.9209750294685364\n"
          ]
        }
      ]
    },
    {
      "cell_type": "code",
      "source": [
        "from sklearn.metrics import classification_report\n",
        "y_pred_prob = model.predict(x_test)\n",
        "y_pred = np.argmax(y_pred_prob, axis=1)\n",
        "print(classification_report(y_test, y_pred))"
      ],
      "metadata": {
        "colab": {
          "base_uri": "https://localhost:8080/"
        },
        "id": "tmN2k7yvvKPn",
        "outputId": "6c43d3ae-839a-40d3-f1fd-8f5fd78f6f67"
      },
      "execution_count": 28,
      "outputs": [
        {
          "output_type": "stream",
          "name": "stdout",
          "text": [
            "403/403 [==============================] - 1s 2ms/step\n",
            "              precision    recall  f1-score   support\n",
            "\n",
            "         0.0       0.89      0.84      0.86       275\n",
            "         1.0       0.89      0.87      0.88      1167\n",
            "         2.0       0.97      0.87      0.92      2043\n",
            "         3.0       0.89      0.88      0.88      3074\n",
            "         4.0       0.93      0.97      0.95      6323\n",
            "\n",
            "    accuracy                           0.92     12882\n",
            "   macro avg       0.92      0.89      0.90     12882\n",
            "weighted avg       0.92      0.92      0.92     12882\n",
            "\n"
          ]
        }
      ]
    },
    {
      "cell_type": "code",
      "source": [
        "import pickle\n",
        "file_path = '/content/drive/MyDrive/Kaggle/lstm_model epoch =7.pkl'\n",
        "with open(file_path, 'wb') as file:\n",
        "    pickle.dump(model, file)"
      ],
      "metadata": {
        "id": "EIt5wT2wvMZ8"
      },
      "execution_count": 29,
      "outputs": []
    },
    {
      "cell_type": "code",
      "source": [
        "# updating value of epoch to 15\n",
        "model = keras.Sequential([\n",
        "    layers.Embedding(vocab_size, 128),\n",
        "    layers.LSTM(128),  # LSTM layer\n",
        "    layers.Dense(64, activation='relu'),\n",
        "    layers.Dense(5, activation='softmax')\n",
        "])\n",
        "\n",
        "model.compile(optimizer='adam', loss='categorical_crossentropy', metrics=['accuracy'])\n",
        "y_train_categorical = tf.keras.utils.to_categorical(y_train, num_classes=5)\n",
        "y_test_categorical = tf.keras.utils.to_categorical(y_test, num_classes=5)\n",
        "model.fit(x_train, y_train_categorical, epochs=15, batch_size=32)\n",
        "loss, accuracy = model.evaluate(x_test, y_test_categorical)\n",
        "\n",
        "print(\"Loss:\", loss)\n",
        "print(\"Accuracy:\", accuracy)"
      ],
      "metadata": {
        "colab": {
          "base_uri": "https://localhost:8080/"
        },
        "id": "v56uDWGUvYE0",
        "outputId": "5d9fea8b-eb41-444f-ad69-64be38d5e6ca"
      },
      "execution_count": 30,
      "outputs": [
        {
          "output_type": "stream",
          "name": "stdout",
          "text": [
            "Epoch 1/15\n",
            "1611/1611 [==============================] - 23s 13ms/step - loss: 1.0250 - accuracy: 0.5977\n",
            "Epoch 2/15\n",
            "1611/1611 [==============================] - 11s 7ms/step - loss: 0.8571 - accuracy: 0.6606\n",
            "Epoch 3/15\n",
            "1611/1611 [==============================] - 11s 7ms/step - loss: 0.6883 - accuracy: 0.7416\n",
            "Epoch 4/15\n",
            "1611/1611 [==============================] - 12s 7ms/step - loss: 0.4972 - accuracy: 0.8267\n",
            "Epoch 5/15\n",
            "1611/1611 [==============================] - 12s 7ms/step - loss: 0.3547 - accuracy: 0.8842\n",
            "Epoch 6/15\n",
            "1611/1611 [==============================] - 12s 7ms/step - loss: 0.2699 - accuracy: 0.9133\n",
            "Epoch 7/15\n",
            "1611/1611 [==============================] - 12s 7ms/step - loss: 0.2043 - accuracy: 0.9351\n",
            "Epoch 8/15\n",
            "1611/1611 [==============================] - 12s 7ms/step - loss: 0.1768 - accuracy: 0.9447\n",
            "Epoch 9/15\n",
            "1611/1611 [==============================] - 11s 7ms/step - loss: 0.1447 - accuracy: 0.9545\n",
            "Epoch 10/15\n",
            "1611/1611 [==============================] - 11s 7ms/step - loss: 0.1205 - accuracy: 0.9628\n",
            "Epoch 11/15\n",
            "1611/1611 [==============================] - 12s 7ms/step - loss: 0.1119 - accuracy: 0.9644\n",
            "Epoch 12/15\n",
            "1611/1611 [==============================] - 12s 7ms/step - loss: 0.0908 - accuracy: 0.9725\n",
            "Epoch 13/15\n",
            "1611/1611 [==============================] - 11s 7ms/step - loss: 0.0881 - accuracy: 0.9722\n",
            "Epoch 14/15\n",
            "1611/1611 [==============================] - 12s 7ms/step - loss: 0.0775 - accuracy: 0.9746\n",
            "Epoch 15/15\n",
            "1611/1611 [==============================] - 12s 7ms/step - loss: 0.0705 - accuracy: 0.9766\n",
            "403/403 [==============================] - 2s 3ms/step - loss: 0.1555 - accuracy: 0.9582\n",
            "Loss: 0.15551908314228058\n",
            "Accuracy: 0.9581586718559265\n"
          ]
        }
      ]
    },
    {
      "cell_type": "code",
      "source": [
        "from sklearn.metrics import classification_report\n",
        "y_pred_prob = model.predict(x_test)\n",
        "y_pred = np.argmax(y_pred_prob, axis=1)\n",
        "print(classification_report(y_test, y_pred))"
      ],
      "metadata": {
        "colab": {
          "base_uri": "https://localhost:8080/"
        },
        "id": "s_UoPNQBveKB",
        "outputId": "6ba357db-3089-432e-f4bd-556304b95298"
      },
      "execution_count": 31,
      "outputs": [
        {
          "output_type": "stream",
          "name": "stdout",
          "text": [
            "403/403 [==============================] - 1s 2ms/step\n",
            "              precision    recall  f1-score   support\n",
            "\n",
            "         0.0       0.97      0.89      0.93       275\n",
            "         1.0       0.95      0.94      0.94      1167\n",
            "         2.0       0.96      0.95      0.96      2043\n",
            "         3.0       0.93      0.95      0.94      3074\n",
            "         4.0       0.97      0.97      0.97      6323\n",
            "\n",
            "    accuracy                           0.96     12882\n",
            "   macro avg       0.96      0.94      0.95     12882\n",
            "weighted avg       0.96      0.96      0.96     12882\n",
            "\n"
          ]
        }
      ]
    },
    {
      "cell_type": "code",
      "source": [
        "import pickle\n",
        "file_path = '/content/drive/MyDrive/Kaggle/lstm_model epoch = 15.pkl'\n",
        "with open(file_path, 'wb') as file:\n",
        "    pickle.dump(model, file)"
      ],
      "metadata": {
        "id": "I5iTmxrbxSLB"
      },
      "execution_count": 32,
      "outputs": []
    }
  ]
}